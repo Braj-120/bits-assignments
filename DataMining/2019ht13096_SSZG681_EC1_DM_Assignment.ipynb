{
 "cells": [
  {
   "cell_type": "code",
   "execution_count": 1,
   "metadata": {},
   "outputs": [],
   "source": [
    "import pandas as pd\n",
    "import numpy as np\n",
    "import seaborn as sns\n",
    "import matplotlib.pyplot as plt\n",
    "\n",
    "%matplotlib inline\n",
    "import warnings\n",
    "from matplotlib.ticker import PercentFormatter\n",
    "\n",
    "from sklearn.neighbors import KNeighborsClassifier\n",
    "from sklearn.linear_model import LogisticRegression\n",
    "from sklearn.metrics import accuracy_score\n",
    "from sklearn.model_selection import StratifiedKFold\n",
    "\n",
    "from sklearn import tree\n",
    "from sklearn.tree import DecisionTreeClassifier\n",
    "from sklearn.svm import SVC\n",
    "from sklearn.ensemble import RandomForestClassifier\n",
    "\n",
    "from sklearn import metrics\n",
    "from sklearn.metrics import confusion_matrix\n",
    "from sklearn.metrics import plot_confusion_matrix\n",
    "from sklearn.metrics import classification_report\n",
    "\n"
   ]
  },
  {
   "cell_type": "markdown",
   "metadata": {},
   "source": [
    "## First import the sample data"
   ]
  },
  {
   "cell_type": "code",
   "execution_count": 2,
   "metadata": {},
   "outputs": [],
   "source": [
    "\n",
    "loandata = pd.read_csv('LoanApplicantData.csv')\n",
    "loandata_original = loandata.copy()"
   ]
  },
  {
   "cell_type": "markdown",
   "metadata": {},
   "source": [
    "## Now let's start summarizing the data"
   ]
  },
  {
   "cell_type": "code",
   "execution_count": 3,
   "metadata": {},
   "outputs": [
    {
     "data": {
      "text/html": [
       "<div>\n",
       "<style scoped>\n",
       "    .dataframe tbody tr th:only-of-type {\n",
       "        vertical-align: middle;\n",
       "    }\n",
       "\n",
       "    .dataframe tbody tr th {\n",
       "        vertical-align: top;\n",
       "    }\n",
       "\n",
       "    .dataframe thead th {\n",
       "        text-align: right;\n",
       "    }\n",
       "</style>\n",
       "<table border=\"1\" class=\"dataframe\">\n",
       "  <thead>\n",
       "    <tr style=\"text-align: right;\">\n",
       "      <th></th>\n",
       "      <th>Loan_ID</th>\n",
       "      <th>Gender</th>\n",
       "      <th>Married</th>\n",
       "      <th>Dependents</th>\n",
       "      <th>Education</th>\n",
       "      <th>Self_Employed</th>\n",
       "      <th>ApplicantIncome</th>\n",
       "      <th>CoapplicantIncome</th>\n",
       "      <th>LoanAmount</th>\n",
       "      <th>Loan_Amount_Term</th>\n",
       "      <th>Credit_History</th>\n",
       "      <th>Property_Area</th>\n",
       "      <th>Loan_Status</th>\n",
       "    </tr>\n",
       "  </thead>\n",
       "  <tbody>\n",
       "    <tr>\n",
       "      <th>0</th>\n",
       "      <td>LP001002</td>\n",
       "      <td>Male</td>\n",
       "      <td>No</td>\n",
       "      <td>0</td>\n",
       "      <td>Graduate</td>\n",
       "      <td>No</td>\n",
       "      <td>5849</td>\n",
       "      <td>0.0</td>\n",
       "      <td>NaN</td>\n",
       "      <td>360.0</td>\n",
       "      <td>1.0</td>\n",
       "      <td>Urban</td>\n",
       "      <td>Y</td>\n",
       "    </tr>\n",
       "    <tr>\n",
       "      <th>1</th>\n",
       "      <td>LP001003</td>\n",
       "      <td>Male</td>\n",
       "      <td>Yes</td>\n",
       "      <td>1</td>\n",
       "      <td>Graduate</td>\n",
       "      <td>No</td>\n",
       "      <td>4583</td>\n",
       "      <td>1508.0</td>\n",
       "      <td>128.0</td>\n",
       "      <td>360.0</td>\n",
       "      <td>1.0</td>\n",
       "      <td>Rural</td>\n",
       "      <td>N</td>\n",
       "    </tr>\n",
       "    <tr>\n",
       "      <th>2</th>\n",
       "      <td>LP001005</td>\n",
       "      <td>Male</td>\n",
       "      <td>Yes</td>\n",
       "      <td>0</td>\n",
       "      <td>Graduate</td>\n",
       "      <td>Yes</td>\n",
       "      <td>3000</td>\n",
       "      <td>0.0</td>\n",
       "      <td>66.0</td>\n",
       "      <td>360.0</td>\n",
       "      <td>1.0</td>\n",
       "      <td>Urban</td>\n",
       "      <td>Y</td>\n",
       "    </tr>\n",
       "    <tr>\n",
       "      <th>3</th>\n",
       "      <td>LP001006</td>\n",
       "      <td>Male</td>\n",
       "      <td>Yes</td>\n",
       "      <td>0</td>\n",
       "      <td>Not Graduate</td>\n",
       "      <td>No</td>\n",
       "      <td>2583</td>\n",
       "      <td>2358.0</td>\n",
       "      <td>120.0</td>\n",
       "      <td>360.0</td>\n",
       "      <td>1.0</td>\n",
       "      <td>Urban</td>\n",
       "      <td>Y</td>\n",
       "    </tr>\n",
       "    <tr>\n",
       "      <th>4</th>\n",
       "      <td>LP001008</td>\n",
       "      <td>Male</td>\n",
       "      <td>No</td>\n",
       "      <td>0</td>\n",
       "      <td>Graduate</td>\n",
       "      <td>No</td>\n",
       "      <td>6000</td>\n",
       "      <td>0.0</td>\n",
       "      <td>141.0</td>\n",
       "      <td>360.0</td>\n",
       "      <td>1.0</td>\n",
       "      <td>Urban</td>\n",
       "      <td>Y</td>\n",
       "    </tr>\n",
       "  </tbody>\n",
       "</table>\n",
       "</div>"
      ],
      "text/plain": [
       "    Loan_ID Gender Married Dependents     Education Self_Employed  \\\n",
       "0  LP001002   Male      No          0      Graduate            No   \n",
       "1  LP001003   Male     Yes          1      Graduate            No   \n",
       "2  LP001005   Male     Yes          0      Graduate           Yes   \n",
       "3  LP001006   Male     Yes          0  Not Graduate            No   \n",
       "4  LP001008   Male      No          0      Graduate            No   \n",
       "\n",
       "   ApplicantIncome  CoapplicantIncome  LoanAmount  Loan_Amount_Term  \\\n",
       "0             5849                0.0         NaN             360.0   \n",
       "1             4583             1508.0       128.0             360.0   \n",
       "2             3000                0.0        66.0             360.0   \n",
       "3             2583             2358.0       120.0             360.0   \n",
       "4             6000                0.0       141.0             360.0   \n",
       "\n",
       "   Credit_History Property_Area Loan_Status  \n",
       "0             1.0         Urban           Y  \n",
       "1             1.0         Rural           N  \n",
       "2             1.0         Urban           Y  \n",
       "3             1.0         Urban           Y  \n",
       "4             1.0         Urban           Y  "
      ]
     },
     "execution_count": 3,
     "metadata": {},
     "output_type": "execute_result"
    }
   ],
   "source": [
    "# Below is just basic summary of the sample data\n",
    "loandata.head()"
   ]
  },
  {
   "cell_type": "code",
   "execution_count": 4,
   "metadata": {},
   "outputs": [
    {
     "data": {
      "text/html": [
       "<div>\n",
       "<style scoped>\n",
       "    .dataframe tbody tr th:only-of-type {\n",
       "        vertical-align: middle;\n",
       "    }\n",
       "\n",
       "    .dataframe tbody tr th {\n",
       "        vertical-align: top;\n",
       "    }\n",
       "\n",
       "    .dataframe thead th {\n",
       "        text-align: right;\n",
       "    }\n",
       "</style>\n",
       "<table border=\"1\" class=\"dataframe\">\n",
       "  <thead>\n",
       "    <tr style=\"text-align: right;\">\n",
       "      <th></th>\n",
       "      <th>Loan_ID</th>\n",
       "      <th>Gender</th>\n",
       "      <th>Married</th>\n",
       "      <th>Dependents</th>\n",
       "      <th>Education</th>\n",
       "      <th>Self_Employed</th>\n",
       "      <th>ApplicantIncome</th>\n",
       "      <th>CoapplicantIncome</th>\n",
       "      <th>LoanAmount</th>\n",
       "      <th>Loan_Amount_Term</th>\n",
       "      <th>Credit_History</th>\n",
       "      <th>Property_Area</th>\n",
       "      <th>Loan_Status</th>\n",
       "    </tr>\n",
       "  </thead>\n",
       "  <tbody>\n",
       "    <tr>\n",
       "      <th>609</th>\n",
       "      <td>LP002978</td>\n",
       "      <td>Female</td>\n",
       "      <td>No</td>\n",
       "      <td>0</td>\n",
       "      <td>Graduate</td>\n",
       "      <td>No</td>\n",
       "      <td>2900</td>\n",
       "      <td>0.0</td>\n",
       "      <td>71.0</td>\n",
       "      <td>360.0</td>\n",
       "      <td>1.0</td>\n",
       "      <td>Rural</td>\n",
       "      <td>Y</td>\n",
       "    </tr>\n",
       "    <tr>\n",
       "      <th>610</th>\n",
       "      <td>LP002979</td>\n",
       "      <td>Male</td>\n",
       "      <td>Yes</td>\n",
       "      <td>3+</td>\n",
       "      <td>Graduate</td>\n",
       "      <td>No</td>\n",
       "      <td>4106</td>\n",
       "      <td>0.0</td>\n",
       "      <td>40.0</td>\n",
       "      <td>180.0</td>\n",
       "      <td>1.0</td>\n",
       "      <td>Rural</td>\n",
       "      <td>Y</td>\n",
       "    </tr>\n",
       "    <tr>\n",
       "      <th>611</th>\n",
       "      <td>LP002983</td>\n",
       "      <td>Male</td>\n",
       "      <td>Yes</td>\n",
       "      <td>1</td>\n",
       "      <td>Graduate</td>\n",
       "      <td>No</td>\n",
       "      <td>8072</td>\n",
       "      <td>240.0</td>\n",
       "      <td>253.0</td>\n",
       "      <td>360.0</td>\n",
       "      <td>1.0</td>\n",
       "      <td>Urban</td>\n",
       "      <td>Y</td>\n",
       "    </tr>\n",
       "    <tr>\n",
       "      <th>612</th>\n",
       "      <td>LP002984</td>\n",
       "      <td>Male</td>\n",
       "      <td>Yes</td>\n",
       "      <td>2</td>\n",
       "      <td>Graduate</td>\n",
       "      <td>No</td>\n",
       "      <td>7583</td>\n",
       "      <td>0.0</td>\n",
       "      <td>187.0</td>\n",
       "      <td>360.0</td>\n",
       "      <td>1.0</td>\n",
       "      <td>Urban</td>\n",
       "      <td>Y</td>\n",
       "    </tr>\n",
       "    <tr>\n",
       "      <th>613</th>\n",
       "      <td>LP002990</td>\n",
       "      <td>Female</td>\n",
       "      <td>No</td>\n",
       "      <td>0</td>\n",
       "      <td>Graduate</td>\n",
       "      <td>Yes</td>\n",
       "      <td>4583</td>\n",
       "      <td>0.0</td>\n",
       "      <td>133.0</td>\n",
       "      <td>360.0</td>\n",
       "      <td>0.0</td>\n",
       "      <td>Semiurban</td>\n",
       "      <td>N</td>\n",
       "    </tr>\n",
       "  </tbody>\n",
       "</table>\n",
       "</div>"
      ],
      "text/plain": [
       "      Loan_ID  Gender Married Dependents Education Self_Employed  \\\n",
       "609  LP002978  Female      No          0  Graduate            No   \n",
       "610  LP002979    Male     Yes         3+  Graduate            No   \n",
       "611  LP002983    Male     Yes          1  Graduate            No   \n",
       "612  LP002984    Male     Yes          2  Graduate            No   \n",
       "613  LP002990  Female      No          0  Graduate           Yes   \n",
       "\n",
       "     ApplicantIncome  CoapplicantIncome  LoanAmount  Loan_Amount_Term  \\\n",
       "609             2900                0.0        71.0             360.0   \n",
       "610             4106                0.0        40.0             180.0   \n",
       "611             8072              240.0       253.0             360.0   \n",
       "612             7583                0.0       187.0             360.0   \n",
       "613             4583                0.0       133.0             360.0   \n",
       "\n",
       "     Credit_History Property_Area Loan_Status  \n",
       "609             1.0         Rural           Y  \n",
       "610             1.0         Rural           Y  \n",
       "611             1.0         Urban           Y  \n",
       "612             1.0         Urban           Y  \n",
       "613             0.0     Semiurban           N  "
      ]
     },
     "execution_count": 4,
     "metadata": {},
     "output_type": "execute_result"
    }
   ],
   "source": [
    "loandata.tail()"
   ]
  },
  {
   "cell_type": "markdown",
   "metadata": {},
   "source": [
    "__Lets try to understand the basic of the training data present like number of entries, columns, structure etc\n",
    "This will help us in analysis of the data__"
   ]
  },
  {
   "cell_type": "code",
   "execution_count": 5,
   "metadata": {},
   "outputs": [
    {
     "data": {
      "text/plain": [
       "(614, 13)"
      ]
     },
     "execution_count": 5,
     "metadata": {},
     "output_type": "execute_result"
    }
   ],
   "source": [
    "loandata.shape"
   ]
  },
  {
   "cell_type": "code",
   "execution_count": 6,
   "metadata": {},
   "outputs": [
    {
     "data": {
      "text/plain": [
       "Index(['Loan_ID', 'Gender', 'Married', 'Dependents', 'Education',\n",
       "       'Self_Employed', 'ApplicantIncome', 'CoapplicantIncome', 'LoanAmount',\n",
       "       'Loan_Amount_Term', 'Credit_History', 'Property_Area', 'Loan_Status'],\n",
       "      dtype='object')"
      ]
     },
     "execution_count": 6,
     "metadata": {},
     "output_type": "execute_result"
    }
   ],
   "source": [
    "loandata.columns"
   ]
  },
  {
   "cell_type": "code",
   "execution_count": 7,
   "metadata": {},
   "outputs": [
    {
     "data": {
      "text/plain": [
       "Loan_ID               object\n",
       "Gender                object\n",
       "Married               object\n",
       "Dependents            object\n",
       "Education             object\n",
       "Self_Employed         object\n",
       "ApplicantIncome        int64\n",
       "CoapplicantIncome    float64\n",
       "LoanAmount           float64\n",
       "Loan_Amount_Term     float64\n",
       "Credit_History       float64\n",
       "Property_Area         object\n",
       "Loan_Status           object\n",
       "dtype: object"
      ]
     },
     "execution_count": 7,
     "metadata": {},
     "output_type": "execute_result"
    }
   ],
   "source": [
    "loandata.dtypes"
   ]
  },
  {
   "cell_type": "code",
   "execution_count": 8,
   "metadata": {},
   "outputs": [
    {
     "data": {
      "text/plain": [
       "Y    422\n",
       "N    192\n",
       "Name: Loan_Status, dtype: int64"
      ]
     },
     "execution_count": 8,
     "metadata": {},
     "output_type": "execute_result"
    }
   ],
   "source": [
    "loandata['Loan_Status'].value_counts()"
   ]
  },
  {
   "cell_type": "code",
   "execution_count": 9,
   "metadata": {},
   "outputs": [
    {
     "data": {
      "text/plain": [
       "<matplotlib.axes._subplots.AxesSubplot at 0x1901b150730>"
      ]
     },
     "execution_count": 9,
     "metadata": {},
     "output_type": "execute_result"
    },
    {
     "data": {
      "image/png": "[encoded data removed]",
      "text/plain": [
       "<Figure size 432x288 with 1 Axes>"
      ]
     },
     "metadata": {
      "needs_background": "light"
     },
     "output_type": "display_data"
    }
   ],
   "source": [
    "loandata['Loan_Status'].value_counts().plot.bar(color='#458ae9')"
   ]
  },
  {
   "cell_type": "markdown",
   "metadata": {},
   "source": [
    "### First Basic Observation\n",
    "\n",
    "* This plot actually shows 68.7% of the loans were approved. \n",
    "\n",
    "*Now we can visualise each significant variable separately*"
   ]
  },
  {
   "cell_type": "markdown",
   "metadata": {},
   "source": [
    "### Categorical features"
   ]
  },
  {
   "cell_type": "code",
   "execution_count": 10,
   "metadata": {},
   "outputs": [
    {
     "data": {
      "image/png": "[encoded data removed]",
      "text/plain": [
       "<Figure size 432x288 with 1 Axes>"
      ]
     },
     "metadata": {
      "needs_background": "light"
     },
     "output_type": "display_data"
    },
    {
     "data": {
      "image/png": "[encoded data removed]",
      "text/plain": [
       "<Figure size 432x288 with 1 Axes>"
      ]
     },
     "metadata": {
      "needs_background": "light"
     },
     "output_type": "display_data"
    },
    {
     "data": {
      "image/png": "[encoded data removed]",
      "text/plain": [
       "<Figure size 432x288 with 1 Axes>"
      ]
     },
     "metadata": {
      "needs_background": "light"
     },
     "output_type": "display_data"
    },
    {
     "data": {
      "image/png": "[encoded data removed]",
      "text/plain": [
       "<Figure size 432x288 with 1 Axes>"
      ]
     },
     "metadata": {
      "needs_background": "light"
     },
     "output_type": "display_data"
    }
   ],
   "source": [
    "#Gender, Married, Self Employed and Credit History are categorical features\n",
    "\n",
    "loandata['Gender'].value_counts(normalize=True).plot.bar(title='Gender', color='#458ae9')\n",
    "plt.gca().yaxis.set_major_formatter(PercentFormatter(1))\n",
    "plt.show()\n",
    "loandata['Married'].value_counts(normalize=True).plot.bar(title='Married', color='#458ae9')\n",
    "plt.gca().yaxis.set_major_formatter(PercentFormatter(1))\n",
    "plt.show()\n",
    "loandata['Self_Employed'].value_counts(normalize=True).plot.bar(title='Self_Employed', color='#458ae9')\n",
    "plt.gca().yaxis.set_major_formatter(PercentFormatter(1))\n",
    "plt.show()\n",
    "loandata['Credit_History'].value_counts(normalize=True).plot.bar(title='Credit_History', color='#458ae9')\n",
    "plt.gca().yaxis.set_major_formatter(PercentFormatter(1))\n",
    "plt.show()"
   ]
  },
  {
   "cell_type": "markdown",
   "metadata": {},
   "source": [
    "### Observations\n",
    "**It can be inferred from the above bar plots that:**\n",
    "* 80% of applicants in the dataset are male while 20% are female.\n",
    "* Around 65% of the applicants in the dataset are married.\n",
    "* Around 15% of applicants in the dataset are self-employed.\n",
    "* Around 85% of applicants have repaid their doubts."
   ]
  },
  {
   "cell_type": "markdown",
   "metadata": {},
   "source": [
    "### Ordinal Features"
   ]
  },
  {
   "cell_type": "code",
   "execution_count": 11,
   "metadata": {},
   "outputs": [
    {
     "data": {
      "image/png": "[encoded data removed]",
      "text/plain": [
       "<Figure size 432x288 with 1 Axes>"
      ]
     },
     "metadata": {
      "needs_background": "light"
     },
     "output_type": "display_data"
    },
    {
     "data": {
      "image/png": "[encoded data removed]",
      "text/plain": [
       "<Figure size 432x288 with 1 Axes>"
      ]
     },
     "metadata": {
      "needs_background": "light"
     },
     "output_type": "display_data"
    },
    {
     "data": {
      "image/png": "[encoded data removed]",
      "text/plain": [
       "<Figure size 432x288 with 1 Axes>"
      ]
     },
     "metadata": {
      "needs_background": "light"
     },
     "output_type": "display_data"
    }
   ],
   "source": [
    "# Dependents, Education and Property area are ordinals\n",
    "\n",
    "loandata['Dependents'].value_counts(normalize=True).plot.bar(title='Dependents', color='#458ae9')\n",
    "plt.gca().yaxis.set_major_formatter(PercentFormatter(1))\n",
    "plt.show()\n",
    "loandata['Education'].value_counts(normalize=True).plot.bar(title='Education', color='#458ae9')\n",
    "plt.gca().yaxis.set_major_formatter(PercentFormatter(1))\n",
    "plt.show()\n",
    "loandata['Property_Area'].value_counts(normalize=True).plot.bar(title='Property_Area', color='#458ae9')\n",
    "plt.gca().yaxis.set_major_formatter(PercentFormatter(1))\n",
    "plt.show()"
   ]
  },
  {
   "cell_type": "markdown",
   "metadata": {},
   "source": [
    "### Observations\n",
    "**The following inferences can be made from the above bar plots**\n",
    "* Most of the applicants don't have any dependents.\n",
    "* Around 80% of the applicants are Graduate.\n",
    "* Most of the applicants are from the Semiurban area."
   ]
  },
  {
   "cell_type": "markdown",
   "metadata": {},
   "source": [
    "### Numerical Features\n",
    "\n",
    "This is a bit complicated to realize."
   ]
  },
  {
   "cell_type": "code",
   "execution_count": 12,
   "metadata": {},
   "outputs": [
    {
     "data": {
      "image/png": "[encoded data removed]",
      "text/plain": [
       "<Figure size 432x288 with 1 Axes>"
      ]
     },
     "metadata": {
      "needs_background": "light"
     },
     "output_type": "display_data"
    },
    {
     "data": {
      "image/png": "[encoded data removed]",
      "text/plain": [
       "<Figure size 432x288 with 1 Axes>"
      ]
     },
     "metadata": {
      "needs_background": "light"
     },
     "output_type": "display_data"
    }
   ],
   "source": [
    "# Applicant income is numerical feature\n",
    "\n",
    "sns.distplot(loandata['ApplicantIncome'], color='#458ae9')\n",
    "plt.show()\n",
    "loandata['ApplicantIncome'].plot(color='#458ae9')\n",
    "plt.show()"
   ]
  },
  {
   "cell_type": "markdown",
   "metadata": {},
   "source": [
    "### Observations\n",
    "**The following inferences can be made from the above plots**\n",
    "* The income of the applicants is generally skewed towards left as most of the applicants have income between 10000 and 22000"
   ]
  },
  {
   "cell_type": "code",
   "execution_count": 13,
   "metadata": {},
   "outputs": [
    {
     "data": {
      "text/plain": [
       "Text(0.5, 0.98, 'Application Income to Education')"
      ]
     },
     "execution_count": 13,
     "metadata": {},
     "output_type": "execute_result"
    },
    {
     "data": {
      "image/png": "[encoded data removed]",
      "text/plain": [
       "<Figure size 432x288 with 1 Axes>"
      ]
     },
     "metadata": {
      "needs_background": "light"
     },
     "output_type": "display_data"
    }
   ],
   "source": [
    "# Applicant income distribution compared with education\n",
    "\n",
    "loandata.boxplot(column='ApplicantIncome', by='Education')\n",
    "plt.suptitle(t=\"Application Income to Education\", va='bottom')"
   ]
  },
  {
   "cell_type": "markdown",
   "metadata": {},
   "source": [
    "* It can be seen that graduates have higher income than non graduate. There are ofcourse some outliers in the graduates"
   ]
  },
  {
   "cell_type": "markdown",
   "metadata": {},
   "source": [
    "## Identifying relevant, irrelevant attributes for building model. "
   ]
  },
  {
   "cell_type": "markdown",
   "metadata": {},
   "source": [
    "**To identify relevant attributes we need to do Bivariate Analysis.\n",
    "Comparing the independent attributes with loan status can give us which attributes have significant impact on the loan application acceptance**"
   ]
  },
  {
   "cell_type": "code",
   "execution_count": 14,
   "metadata": {},
   "outputs": [
    {
     "data": {
      "image/png": "[encoded data removed]",
      "text/plain": [
       "<Figure size 288x288 with 1 Axes>"
      ]
     },
     "metadata": {
      "needs_background": "light"
     },
     "output_type": "display_data"
    },
    {
     "data": {
      "image/png": "[encoded data removed]",
      "text/plain": [
       "<Figure size 288x288 with 1 Axes>"
      ]
     },
     "metadata": {
      "needs_background": "light"
     },
     "output_type": "display_data"
    },
    {
     "data": {
      "image/png": "[encoded data removed]",
      "text/plain": [
       "<Figure size 288x288 with 1 Axes>"
      ]
     },
     "metadata": {
      "needs_background": "light"
     },
     "output_type": "display_data"
    },
    {
     "data": {
      "image/png": "[encoded data removed]",
      "text/plain": [
       "<Figure size 288x288 with 1 Axes>"
      ]
     },
     "metadata": {
      "needs_background": "light"
     },
     "output_type": "display_data"
    }
   ],
   "source": [
    "# Lets take all the categorical features first\n",
    "# And compare it with loan status\n",
    "\n",
    "GenderToLoanDistribution=pd.crosstab(loandata['Gender'],loandata['Loan_Status'])\n",
    "\n",
    "MarriedToLoanDistribution=pd.crosstab(loandata['Married'],loandata['Loan_Status'])\n",
    "\n",
    "EducationToLoanDistribution=pd.crosstab(loandata['Education'],loandata['Loan_Status'])\n",
    "\n",
    "Self_EmployedToLoanDistribution=pd.crosstab(loandata['Self_Employed'],loandata['Loan_Status'])\n",
    "\n",
    "GenderToLoanDistribution.div(GenderToLoanDistribution.sum(1).astype(float), axis=0).plot(kind=\"bar\",figsize=(4,4), color=['#da2424','#458ae9'])\n",
    "plt.gca().yaxis.set_major_formatter(PercentFormatter(1))\n",
    "plt.show()\n",
    "MarriedToLoanDistribution.div(MarriedToLoanDistribution.sum(1).astype(float), axis=0).plot(kind=\"bar\",figsize=(4,4), color=['#da2424','#458ae9'])\n",
    "plt.gca().yaxis.set_major_formatter(PercentFormatter(1))\n",
    "plt.show()\n",
    "EducationToLoanDistribution.div(EducationToLoanDistribution.sum(1).astype(float), axis=0).plot(kind=\"bar\",figsize=(4,4), color=['#da2424','#458ae9'])\n",
    "plt.gca().yaxis.set_major_formatter(PercentFormatter(1))\n",
    "plt.show()\n",
    "Self_EmployedToLoanDistribution.div(Self_EmployedToLoanDistribution.sum(1).astype(float), axis=0).plot(kind=\"bar\",figsize=(4,4), color=['#da2424','#458ae9'])\n",
    "plt.gca().yaxis.set_major_formatter(PercentFormatter(1))\n",
    "plt.show()"
   ]
  },
  {
   "cell_type": "markdown",
   "metadata": {},
   "source": [
    "__Following points can be inferred from the above plots__\n",
    "\n",
    "* The proportion of male and female applicants is similar for both approved and unapproved loans.\n",
    "* The proportion of married applicants is higher for approved loans.\n",
    "* There is nothing significant we can infer from Self_Employed vs Loan_Status plot.\n",
    "\n",
    "\n",
    "So the employment type \"Self_Employed\" seems to be __irrelevant__ attribute\n",
    "\n",
    "\n",
    "\n"
   ]
  },
  {
   "cell_type": "code",
   "execution_count": 15,
   "metadata": {},
   "outputs": [
    {
     "data": {
      "image/png": "[encoded data removed]",
      "text/plain": [
       "<Figure size 288x288 with 1 Axes>"
      ]
     },
     "metadata": {
      "needs_background": "light"
     },
     "output_type": "display_data"
    },
    {
     "data": {
      "image/png": "[encoded data removed]",
      "text/plain": [
       "<Figure size 288x288 with 1 Axes>"
      ]
     },
     "metadata": {
      "needs_background": "light"
     },
     "output_type": "display_data"
    },
    {
     "data": {
      "image/png": "[encoded data removed]",
      "text/plain": [
       "<Figure size 288x288 with 1 Axes>"
      ]
     },
     "metadata": {
      "needs_background": "light"
     },
     "output_type": "display_data"
    }
   ],
   "source": [
    "# Now lets take ordinal attributes\n",
    "\n",
    "Credit_HistoryToLoanDistribution=pd.crosstab(loandata['Credit_History'],loandata['Loan_Status'])\n",
    "Property_AreaToLoanDistribution=pd.crosstab(loandata['Property_Area'],loandata['Loan_Status'])\n",
    "DependentsToLoanDistribution=pd.crosstab(loandata['Dependents'],loandata['Loan_Status'])\n",
    "Credit_HistoryToLoanDistribution.div(Credit_HistoryToLoanDistribution.sum(1).astype(float), axis=0).plot(kind=\"bar\",figsize=(4,4), color=['#da2424','#458ae9'])\n",
    "plt.gca().yaxis.set_major_formatter(PercentFormatter(1))\n",
    "plt.show()\n",
    "Property_AreaToLoanDistribution.div(Property_AreaToLoanDistribution.sum(1).astype(float), axis=0).plot(kind=\"bar\",figsize=(4,4), color=['#da2424','#458ae9'])\n",
    "plt.gca().yaxis.set_major_formatter(PercentFormatter(1))\n",
    "plt.show()\n",
    "DependentsToLoanDistribution.div(DependentsToLoanDistribution.sum(1).astype(float), axis=0).plot(kind=\"bar\",figsize=(4,4), color=['#da2424','#458ae9'])\n",
    "plt.gca().yaxis.set_major_formatter(PercentFormatter(1))\n",
    "plt.show()"
   ]
  },
  {
   "cell_type": "markdown",
   "metadata": {},
   "source": [
    "__Following points can be inferred from the above plots__\n",
    "\n",
    "\n",
    "* Distribution of applicants with 1 or 3+ dependents is similar across both the categories of Loan_Status.\n",
    "* It seems people with a credit history as 1 are more likely to get their loans approved.\n",
    "* The proportion of loans getting approved in the semi-urban area is higher as compared to that in rural or urban areas.\n"
   ]
  },
  {
   "cell_type": "code",
   "execution_count": 16,
   "metadata": {},
   "outputs": [
    {
     "data": {
      "image/png": "[encoded data removed]",
      "text/plain": [
       "<Figure size 432x288 with 1 Axes>"
      ]
     },
     "metadata": {
      "needs_background": "light"
     },
     "output_type": "display_data"
    }
   ],
   "source": [
    "# Now the numerical attribute\n",
    "loandata.groupby('Loan_Status')['ApplicantIncome'].mean().plot.bar(color=['#458ae9'])\n",
    "plt.show()"
   ]
  },
  {
   "cell_type": "markdown",
   "metadata": {},
   "source": [
    "*As this data does not express any significant distribution to signal whether the loan is approved or not for the mean salary of 5000, we cannot use this.*\n",
    "\n",
    "An alternative way would be to do __binning__ i.e. creating bins."
   ]
  },
  {
   "cell_type": "code",
   "execution_count": 17,
   "metadata": {},
   "outputs": [
    {
     "data": {
      "image/png": "[encoded data removed]",
      "text/plain": [
       "<Figure size 432x288 with 1 Axes>"
      ]
     },
     "metadata": {
      "needs_background": "light"
     },
     "output_type": "display_data"
    }
   ],
   "source": [
    "income_bins=[0,2500,4000,6000,81000]\n",
    "income_group=['Low','Average','High','Very high']\n",
    "loandata['App_Income_bin']=pd.cut(loandata['ApplicantIncome'],income_bins,labels=income_group)\n",
    "App_Income_bin=pd.crosstab(loandata['App_Income_bin'],loandata['Loan_Status'])\n",
    "App_Income_bin.div(App_Income_bin.sum(1).astype(float), axis=0).plot(kind=\"bar\",stacked=True, color=['#da2424','#458ae9'])\n",
    "plt.gca().yaxis.set_major_formatter(PercentFormatter(1))\n",
    "plt.xlabel('ApplicantIncome')\n",
    "P=plt.ylabel('Percentage')"
   ]
  },
  {
   "cell_type": "markdown",
   "metadata": {},
   "source": [
    "__Even this plot does not have too much variation for Income bins. So there does not seem to be high dependency on loan approval to applicant income directly.__\n",
    "*Let's try with co-applicant's income and see*"
   ]
  },
  {
   "cell_type": "code",
   "execution_count": 18,
   "metadata": {},
   "outputs": [
    {
     "data": {
      "image/png": "[encoded data removed]",
      "text/plain": [
       "<Figure size 432x288 with 1 Axes>"
      ]
     },
     "metadata": {
      "needs_background": "light"
     },
     "output_type": "display_data"
    }
   ],
   "source": [
    "co_applicant_bins=[0,1000,3000,42000]\n",
    "co_applicant_group=['Low','Average','High']\n",
    "loandata['Coapplicant_Income_bin']=pd.cut(loandata['CoapplicantIncome'],co_applicant_bins,labels=co_applicant_group)\n",
    "Coapplicant_Income_bin=pd.crosstab(loandata['Coapplicant_Income_bin'],loandata['Loan_Status'])\n",
    "Coapplicant_Income_bin.div(Coapplicant_Income_bin.sum(1).astype(float), axis=0).plot(kind=\"bar\",stacked=True, color=['#da2424','#458ae9'])\n",
    "plt.gca().yaxis.set_major_formatter(PercentFormatter(1))\n",
    "plt.xlabel('CoapplicantIncome')\n",
    "P=plt.ylabel('Percentage')"
   ]
  },
  {
   "cell_type": "markdown",
   "metadata": {},
   "source": [
    "It shows that if co-applicants income is less the chances of loan approval are high. But it is possible that this might be happening because most of the applicants don’t have any co-applicant so the co-applicant income for such applicants is 0 and hence the loan approval is not dependent on it. So, we can make a new variable in which we will combine the applicant’s and co-applicants income to visualize the combined effect of income on loan approval."
   ]
  },
  {
   "cell_type": "code",
   "execution_count": 19,
   "metadata": {},
   "outputs": [
    {
     "data": {
      "image/png": "[encoded data removed]",
      "text/plain": [
       "<Figure size 432x288 with 1 Axes>"
      ]
     },
     "metadata": {
      "needs_background": "light"
     },
     "output_type": "display_data"
    }
   ],
   "source": [
    "# Combining the coapplicant and applicant income together\n",
    "loandata['Total_Income']=loandata['ApplicantIncome']+loandata['CoapplicantIncome']\n",
    "total_income_bins=[0,2500,4000,6000,81000]\n",
    "total_income_group=['Low','Average','High','Very high']\n",
    "loandata['Total_Income_bin']=pd.cut(loandata['Total_Income'],total_income_bins,labels=total_income_group)\n",
    "Total_Income_bin=pd.crosstab(loandata['Total_Income_bin'],loandata['Loan_Status'])\n",
    "Total_Income_bin.div(Total_Income_bin.sum(1).astype(float), axis=0).plot(kind=\"bar\",stacked=True, color=['#da2424','#458ae9'])\n",
    "plt.gca().yaxis.set_major_formatter(PercentFormatter(1))\n",
    "plt.xlabel('Total_Income')\n",
    "P=plt.ylabel('Percentage')"
   ]
  },
  {
   "cell_type": "markdown",
   "metadata": {},
   "source": [
    "__Following points can be inferred from the above plots__\n",
    "* The chance of loan being approved is higher for applicants with Average, High and Very high combined total income as compared to low income"
   ]
  },
  {
   "cell_type": "markdown",
   "metadata": {},
   "source": [
    "__Let's also do a comparision between loan amount and its approval chance__"
   ]
  },
  {
   "cell_type": "code",
   "execution_count": 20,
   "metadata": {},
   "outputs": [
    {
     "data": {
      "image/png": "[encoded data removed]",
      "text/plain": [
       "<Figure size 432x288 with 1 Axes>"
      ]
     },
     "metadata": {
      "needs_background": "light"
     },
     "output_type": "display_data"
    }
   ],
   "source": [
    "\n",
    "loan_amount_bins=[0,100,200,700]\n",
    "loan_amount_group=['Low','Average','High']\n",
    "loandata['LoanAmount_bin']=pd.cut(loandata['LoanAmount'],loan_amount_bins,labels=loan_amount_group)\n",
    "LoanAmount_bin=pd.crosstab(loandata['LoanAmount_bin'],loandata['Loan_Status'])\n",
    "LoanAmount_bin.div(LoanAmount_bin.sum(1).astype(float), axis=0).plot(kind=\"bar\",stacked=True, color=['#da2424','#458ae9'])\n",
    "plt.gca().yaxis.set_major_formatter(PercentFormatter(1))\n",
    "plt.xlabel('LoanAmount')\n",
    "P=plt.ylabel('Percentage')"
   ]
  },
  {
   "cell_type": "markdown",
   "metadata": {},
   "source": [
    "__Following points can be inferred from the above plots__\n",
    "* The proportion of approved loans is higher for Low and Average Loan Amount as compared to that of High Loan Amount\n",
    "\n",
    "*Now let's do some cleanup*"
   ]
  },
  {
   "cell_type": "code",
   "execution_count": 21,
   "metadata": {},
   "outputs": [],
   "source": [
    "# Now let's do some cleanup by dropping the bins we created and irrelevant attribute\n",
    "loandata=loandata.drop(['App_Income_bin', 'Coapplicant_Income_bin', 'LoanAmount_bin', 'Total_Income_bin', 'Total_Income', 'Self_Employed'], axis=1)"
   ]
  },
  {
   "cell_type": "markdown",
   "metadata": {},
   "source": [
    "## Performing appropriate data transformations with justifications"
   ]
  },
  {
   "cell_type": "markdown",
   "metadata": {},
   "source": [
    "* We will change the 3+ in dependents variable to 3 to make it a numerical variable. \n",
    "* We will also convert the target variable’s categories into 0 and 1 so that we can find its correlation with numerical variables. One more reason to do so is few models like logistic regression takes only numeric values as input.\n",
    "* We will replace N with 0 and Y with 1."
   ]
  },
  {
   "cell_type": "code",
   "execution_count": 22,
   "metadata": {},
   "outputs": [],
   "source": [
    "loandata['Dependents'].replace('3+', 4,inplace=True)\n",
    "loandata['Dependents'].replace('3+', 4,inplace=True)\n",
    "loandata['Loan_Status'].replace('N', 0,inplace=True)\n",
    "loandata['Loan_Status'].replace('Y', 1,inplace=True)"
   ]
  },
  {
   "cell_type": "markdown",
   "metadata": {},
   "source": [
    "## Correlation between all the numerical variables "
   ]
  },
  {
   "cell_type": "code",
   "execution_count": 23,
   "metadata": {},
   "outputs": [
    {
     "data": {
      "text/plain": [
       "<matplotlib.axes._subplots.AxesSubplot at 0x1901b923d60>"
      ]
     },
     "execution_count": 23,
     "metadata": {},
     "output_type": "execute_result"
    },
    {
     "data": {
      "image/png": "[encoded data removed]",
      "text/plain": [
       "<Figure size 648x432 with 2 Axes>"
      ]
     },
     "metadata": {
      "needs_background": "light"
     },
     "output_type": "display_data"
    }
   ],
   "source": [
    "correlation_mx = loandata.corr()\n",
    "f, ax = plt.subplots(figsize=(9,6))\n",
    "sns.heatmap(correlation_mx,vmax=.8,square=True,cmap='GnBu_r', annot = True)"
   ]
  },
  {
   "cell_type": "markdown",
   "metadata": {},
   "source": [
    "__Important observations here are__\n",
    "\n",
    "* Applicant Income - Loan Amount are highly correlated\n",
    "* Credit History - Loan status are highly correlated\n",
    "* Coapplicant income also has some signifance to loan amount"
   ]
  },
  {
   "cell_type": "markdown",
   "metadata": {},
   "source": [
    "## Refinement, Missing Values and Outlier management"
   ]
  },
  {
   "cell_type": "markdown",
   "metadata": {},
   "source": [
    "### Missing Values"
   ]
  },
  {
   "cell_type": "code",
   "execution_count": 24,
   "metadata": {},
   "outputs": [
    {
     "data": {
      "text/plain": [
       "Loan_ID              False\n",
       "Gender                True\n",
       "Married               True\n",
       "Dependents            True\n",
       "Education            False\n",
       "ApplicantIncome      False\n",
       "CoapplicantIncome    False\n",
       "LoanAmount            True\n",
       "Loan_Amount_Term      True\n",
       "Credit_History        True\n",
       "Property_Area        False\n",
       "Loan_Status          False\n",
       "dtype: bool"
      ]
     },
     "execution_count": 24,
     "metadata": {},
     "output_type": "execute_result"
    }
   ],
   "source": [
    "# Which all features have missing values and their total\n",
    "\n",
    "loandata.isna().sum() > 0\n",
    "\n",
    "#This gives the fields which have missing values\n"
   ]
  },
  {
   "cell_type": "markdown",
   "metadata": {},
   "source": [
    "__The fields which have missing values are__\n",
    "1. Gender\n",
    "2. Married\n",
    "3. Dependents\n",
    "4. LoanAmount\n",
    "5. Loan_Amount_Term\n",
    "6. Credit_History\n",
    "\n",
    "Let's solve them one by one"
   ]
  },
  {
   "cell_type": "markdown",
   "metadata": {},
   "source": [
    "1. __Gender__: This is categorical variable so let's use __mode__ for filling the data"
   ]
  },
  {
   "cell_type": "code",
   "execution_count": 25,
   "metadata": {},
   "outputs": [],
   "source": [
    "mode_gender = loandata['Gender'].mode()[0]\n",
    "loandata['Gender'].fillna(mode_gender, inplace=True)"
   ]
  },
  {
   "cell_type": "markdown",
   "metadata": {},
   "source": [
    "2. __Married__: Another categorical variable, so we use __mode__"
   ]
  },
  {
   "cell_type": "code",
   "execution_count": 26,
   "metadata": {},
   "outputs": [],
   "source": [
    "mode_married = loandata['Married'].mode()[0]\n",
    "loandata['Married'].fillna(mode_married, inplace=True)"
   ]
  },
  {
   "cell_type": "markdown",
   "metadata": {},
   "source": [
    "3. __Dependents__: Another categorical variable, so we use __mode__"
   ]
  },
  {
   "cell_type": "code",
   "execution_count": 27,
   "metadata": {},
   "outputs": [],
   "source": [
    "mode_dependents = loandata['Dependents'].mode()[0]\n",
    "loandata['Dependents'].fillna(mode_dependents, inplace=True)"
   ]
  },
  {
   "cell_type": "markdown",
   "metadata": {},
   "source": [
    "4. __LoanAmount__: Numberical variable so lets use __median__"
   ]
  },
  {
   "cell_type": "code",
   "execution_count": 28,
   "metadata": {},
   "outputs": [],
   "source": [
    "median_loan_amount = loandata['LoanAmount'].median()\n",
    "loandata['LoanAmount'].fillna(median_loan_amount, inplace=True)"
   ]
  },
  {
   "cell_type": "markdown",
   "metadata": {},
   "source": [
    "5. __Loan_Amount_Term__: Categorical variable so we use __mode__"
   ]
  },
  {
   "cell_type": "code",
   "execution_count": 29,
   "metadata": {},
   "outputs": [],
   "source": [
    "mode_loan_amount_term = loandata['Loan_Amount_Term'].mode()[0]\n",
    "loandata['Loan_Amount_Term'].fillna(mode_loan_amount_term, inplace=True)"
   ]
  },
  {
   "cell_type": "markdown",
   "metadata": {},
   "source": [
    "6. Credit_History: Categorical again so we use mode"
   ]
  },
  {
   "cell_type": "code",
   "execution_count": 30,
   "metadata": {},
   "outputs": [],
   "source": [
    "mode_credit_history = loandata['Credit_History'].mode()[0]\n",
    "loandata['Credit_History'].fillna(mode_credit_history, inplace=True)"
   ]
  },
  {
   "cell_type": "markdown",
   "metadata": {},
   "source": [
    "Now verify if all the missing fields are filled"
   ]
  },
  {
   "cell_type": "code",
   "execution_count": 31,
   "metadata": {},
   "outputs": [
    {
     "data": {
      "text/plain": [
       "Loan_ID              False\n",
       "Gender               False\n",
       "Married              False\n",
       "Dependents           False\n",
       "Education            False\n",
       "ApplicantIncome      False\n",
       "CoapplicantIncome    False\n",
       "LoanAmount           False\n",
       "Loan_Amount_Term     False\n",
       "Credit_History       False\n",
       "Property_Area        False\n",
       "Loan_Status          False\n",
       "dtype: bool"
      ]
     },
     "execution_count": 31,
     "metadata": {},
     "output_type": "execute_result"
    }
   ],
   "source": [
    "loandata.isna().sum() > 0"
   ]
  },
  {
   "cell_type": "markdown",
   "metadata": {},
   "source": [
    "### Duplicate Values"
   ]
  },
  {
   "cell_type": "code",
   "execution_count": 32,
   "metadata": {},
   "outputs": [
    {
     "data": {
      "text/plain": [
       "array([False, False, False, False, False, False, False, False, False,\n",
       "       False, False, False])"
      ]
     },
     "execution_count": 32,
     "metadata": {},
     "output_type": "execute_result"
    }
   ],
   "source": [
    "# Check if any column is duplicated\n",
    "loandata.columns.duplicated()"
   ]
  },
  {
   "cell_type": "markdown",
   "metadata": {},
   "source": [
    "Since no column is duplicate, let's check if any row is duplicate"
   ]
  },
  {
   "cell_type": "code",
   "execution_count": 33,
   "metadata": {},
   "outputs": [
    {
     "data": {
      "text/plain": [
       "(614, 12)"
      ]
     },
     "execution_count": 33,
     "metadata": {},
     "output_type": "execute_result"
    }
   ],
   "source": [
    "loandata.drop_duplicates(inplace= True)\n",
    "loandata.shape"
   ]
  },
  {
   "cell_type": "markdown",
   "metadata": {},
   "source": [
    "### Outlier Management"
   ]
  },
  {
   "cell_type": "code",
   "execution_count": 34,
   "metadata": {},
   "outputs": [
    {
     "data": {
      "image/png": "[encoded data removed]",
      "text/plain": [
       "<Figure size 936x360 with 4 Axes>"
      ]
     },
     "metadata": {
      "needs_background": "light"
     },
     "output_type": "display_data"
    }
   ],
   "source": [
    "## This plot helps to identify outliners of data\n",
    "# box and whisker plots\n",
    "data = pd.DataFrame(loandata, columns = ['ApplicantIncome', 'CoapplicantIncome', 'LoanAmount', 'Loan_Amount_Term'])\n",
    "data.plot.box(subplots=True, figsize=(13,5))\n",
    "plt.show()"
   ]
  },
  {
   "cell_type": "markdown",
   "metadata": {},
   "source": [
    "__Lets fix the Loan Amount outliers using log transformation__"
   ]
  },
  {
   "cell_type": "code",
   "execution_count": 35,
   "metadata": {},
   "outputs": [
    {
     "data": {
      "text/plain": [
       "<matplotlib.axes._subplots.AxesSubplot at 0x1901bc49d60>"
      ]
     },
     "execution_count": 35,
     "metadata": {},
     "output_type": "execute_result"
    },
    {
     "data": {
      "image/png": "[encoded data removed]",
      "text/plain": [
       "<Figure size 432x288 with 1 Axes>"
      ]
     },
     "metadata": {
      "needs_background": "light"
     },
     "output_type": "display_data"
    }
   ],
   "source": [
    "loandata['LoanAmount_log_value']=np.log(loandata['LoanAmount'])\n",
    "sns.distplot(loandata['LoanAmount_log_value'])"
   ]
  },
  {
   "cell_type": "markdown",
   "metadata": {},
   "source": [
    "## Feature introduction and Refinement\n",
    "\n",
    "Lets add some necessary features which will be helpful.\n"
   ]
  },
  {
   "cell_type": "markdown",
   "metadata": {},
   "source": [
    "__Total Income__: The Applicant Income and CoApplicant Income individually has not that high impact but Total income has high impact on the Loan Amount."
   ]
  },
  {
   "cell_type": "code",
   "execution_count": 36,
   "metadata": {},
   "outputs": [],
   "source": [
    "loandata['Total_Income']=loandata['ApplicantIncome']+loandata['CoapplicantIncome']"
   ]
  },
  {
   "cell_type": "markdown",
   "metadata": {},
   "source": [
    "__EMI__: It is the amount which the customer will have to pay every month."
   ]
  },
  {
   "cell_type": "code",
   "execution_count": 37,
   "metadata": {},
   "outputs": [],
   "source": [
    "loandata['EMI']=loandata['LoanAmount']/loandata['Loan_Amount_Term']"
   ]
  },
  {
   "cell_type": "markdown",
   "metadata": {},
   "source": [
    "__Balance Amount__: This is amount left for customer per month for use. If this amount is low, then the loan might not be approved."
   ]
  },
  {
   "cell_type": "code",
   "execution_count": 38,
   "metadata": {},
   "outputs": [],
   "source": [
    "loandata['Balance_Income'] = loandata['Total_Income']-(loandata['EMI']*1000)"
   ]
  },
  {
   "cell_type": "markdown",
   "metadata": {},
   "source": [
    "Now lets normalize the outliers"
   ]
  },
  {
   "cell_type": "code",
   "execution_count": 39,
   "metadata": {},
   "outputs": [
    {
     "data": {
      "text/plain": [
       "<matplotlib.axes._subplots.AxesSubplot at 0x1901bffd7c0>"
      ]
     },
     "execution_count": 39,
     "metadata": {},
     "output_type": "execute_result"
    },
    {
     "data": {
      "image/png": "[encoded data removed]",
      "text/plain": [
       "<Figure size 432x288 with 1 Axes>"
      ]
     },
     "metadata": {
      "needs_background": "light"
     },
     "output_type": "display_data"
    }
   ],
   "source": [
    "loandata['Total_Income_log_value']=np.log(loandata['Total_Income'])\n",
    "sns.distplot(loandata['Total_Income_log_value'])"
   ]
  },
  {
   "cell_type": "markdown",
   "metadata": {},
   "source": [
    "Now let's remove the unnecessary features since we created the new features"
   ]
  },
  {
   "cell_type": "code",
   "execution_count": 40,
   "metadata": {},
   "outputs": [],
   "source": [
    "loandata = loandata.drop([\n",
    "    'ApplicantIncome', 'CoapplicantIncome', 'Total_Income', 'LoanAmount', 'Loan_Amount_Term', 'Loan_ID'\n",
    "], axis=1)"
   ]
  },
  {
   "cell_type": "code",
   "execution_count": 41,
   "metadata": {},
   "outputs": [
    {
     "data": {
      "text/plain": [
       "Index(['Gender', 'Married', 'Dependents', 'Education', 'Credit_History',\n",
       "       'Property_Area', 'Loan_Status', 'LoanAmount_log_value', 'EMI',\n",
       "       'Balance_Income', 'Total_Income_log_value'],\n",
       "      dtype='object')"
      ]
     },
     "execution_count": 41,
     "metadata": {},
     "output_type": "execute_result"
    }
   ],
   "source": [
    "loandata.columns"
   ]
  },
  {
   "cell_type": "markdown",
   "metadata": {},
   "source": [
    "## Model Building"
   ]
  },
  {
   "cell_type": "markdown",
   "metadata": {},
   "source": [
    "__Step 1__ To build the model, first we should spilt the sample data into training data and test data"
   ]
  },
  {
   "cell_type": "code",
   "execution_count": 42,
   "metadata": {},
   "outputs": [],
   "source": [
    "X = loandata.drop('Loan_Status',1)\n",
    "y = loandata.Loan_Status\n",
    "X = pd.get_dummies(X)\n",
    "from sklearn.model_selection import train_test_split\n",
    "x_train, x_cv, y_train, y_cv = train_test_split(X,y, test_size=0.2)"
   ]
  },
  {
   "cell_type": "markdown",
   "metadata": {},
   "source": [
    "## Applying Various models for evaluation\n",
    "\n",
    "### Logistic Regression"
   ]
  },
  {
   "cell_type": "code",
   "execution_count": 43,
   "metadata": {},
   "outputs": [
    {
     "data": {
      "text/plain": [
       "0.8455284552845529"
      ]
     },
     "execution_count": 43,
     "metadata": {},
     "output_type": "execute_result"
    }
   ],
   "source": [
    "logregression = LogisticRegression(max_iter=200)\n",
    "logregression.fit(x_train, y_train)\n",
    "LogisticRegression()\n",
    "\n",
    "pred_cv = logregression.predict(x_cv)\n",
    "accuracy_score(y_cv,pred_cv)"
   ]
  },
  {
   "cell_type": "code",
   "execution_count": 44,
   "metadata": {},
   "outputs": [],
   "source": [
    "# to finally evaluate the models\n",
    "results = []\n",
    "names = []\n",
    "models = []"
   ]
  },
  {
   "cell_type": "markdown",
   "metadata": {},
   "source": [
    "### Logistic Regression using K-Fold"
   ]
  },
  {
   "cell_type": "code",
   "execution_count": 45,
   "metadata": {},
   "outputs": [
    {
     "name": "stdout",
     "output_type": "stream",
     "text": [
      "\n",
      "1 of kfold 5 \n",
      "accuracy_score 0.8130081300813008\n",
      "\n",
      "2 of kfold 5 \n",
      "accuracy_score 0.8373983739837398\n",
      "\n",
      "3 of kfold 5 \n",
      "accuracy_score 0.7804878048780488\n",
      "\n",
      "4 of kfold 5 \n",
      "accuracy_score 0.8048780487804879\n",
      "\n",
      "5 of kfold 5 \n",
      "accuracy_score 0.7868852459016393\n",
      "\n",
      " Mean Validation Accuracy 0.8045315207250432\n"
     ]
    }
   ],
   "source": [
    "i=1\n",
    "mean = 0\n",
    "result = []\n",
    "kf = StratifiedKFold(n_splits=5,random_state=1,shuffle=True)\n",
    "logRegModel = LogisticRegression(random_state=1, max_iter=300)\n",
    "for train_index,test_index in kf.split(X,y):\n",
    " print ('\\n{} of kfold {} '.format(i,kf.n_splits))\n",
    " \n",
    " xtd = X.loc[train_index]\n",
    " xvalue = X.loc[test_index]\n",
    " \n",
    " ytd = y[train_index]\n",
    " yvalue = y[test_index]\n",
    " \n",
    " logRegModel.fit(xtd,ytd)\n",
    " \n",
    " pred_test=logRegModel.predict(xvalue)\n",
    " score=accuracy_score(yvalue,pred_test)\n",
    " mean += score\n",
    " print ('accuracy_score',score)\n",
    " i+=1\n",
    " \n",
    " result.append(score)\n",
    "\n",
    "print ('\\n Mean Validation Accuracy',mean/(i-1))\n",
    "models.append(('LR', logRegModel))\n",
    "results.append(result)\n",
    "names.append('LR')"
   ]
  },
  {
   "cell_type": "markdown",
   "metadata": {},
   "source": [
    "### Decision Tree Classifier Method"
   ]
  },
  {
   "cell_type": "code",
   "execution_count": 46,
   "metadata": {},
   "outputs": [
    {
     "name": "stdout",
     "output_type": "stream",
     "text": [
      "\n",
      "1 of kfold 5 \n",
      "accuracy_score 0.7154471544715447\n",
      "\n",
      "2 of kfold 5 \n",
      "accuracy_score 0.7235772357723578\n",
      "\n",
      "3 of kfold 5 \n",
      "accuracy_score 0.7317073170731707\n",
      "\n",
      "4 of kfold 5 \n",
      "accuracy_score 0.7317073170731707\n",
      "\n",
      "5 of kfold 5 \n",
      "accuracy_score 0.6229508196721312\n",
      "\n",
      " Mean Validation Accuracy 0.7050779688124751\n"
     ]
    }
   ],
   "source": [
    "i=1\n",
    "mean = 0\n",
    "result = []\n",
    "kf = StratifiedKFold(n_splits=5,random_state=1,shuffle=True)\n",
    "dectreeModel = DecisionTreeClassifier(random_state=1)\n",
    "for train_index,test_index in kf.split(X,y):\n",
    " print ('\\n{} of kfold {} '.format(i,kf.n_splits))\n",
    " \n",
    " xtd = X.loc[train_index]\n",
    " xvalue = X.loc[test_index]\n",
    " \n",
    " ytd = y[train_index]\n",
    " yvalue = y[test_index]\n",
    " \n",
    " dectreeModel.fit(xtd,ytd)\n",
    " \n",
    " pred_test=dectreeModel.predict(xvalue)\n",
    " score=accuracy_score(yvalue,pred_test)\n",
    " mean += score\n",
    " print ('accuracy_score',score)\n",
    " i+=1\n",
    " result.append(score)\n",
    "\n",
    "print ('\\n Mean Validation Accuracy',mean/(i-1))\n",
    "models.append(('DTree', dectreeModel))\n",
    "results.append(result)\n",
    "names.append('DTree')"
   ]
  },
  {
   "cell_type": "markdown",
   "metadata": {},
   "source": [
    "### K-Neighbors Classifier Method"
   ]
  },
  {
   "cell_type": "code",
   "execution_count": 47,
   "metadata": {},
   "outputs": [
    {
     "name": "stdout",
     "output_type": "stream",
     "text": [
      "\n",
      "1 of kfold 5 \n",
      "accuracy_score 0.6341463414634146\n",
      "\n",
      "2 of kfold 5 \n",
      "accuracy_score 0.6585365853658537\n",
      "\n",
      "3 of kfold 5 \n",
      "accuracy_score 0.5853658536585366\n",
      "\n",
      "4 of kfold 5 \n",
      "accuracy_score 0.5772357723577236\n",
      "\n",
      "5 of kfold 5 \n",
      "accuracy_score 0.5819672131147541\n",
      "\n",
      " Mean Validation Accuracy 0.6074503531920564\n"
     ]
    }
   ],
   "source": [
    "i=1\n",
    "mean = 0\n",
    "result = []\n",
    "kf = StratifiedKFold(n_splits=5,random_state=1,shuffle=True)\n",
    "kneighourModel = KNeighborsClassifier()\n",
    "for train_index,test_index in kf.split(X,y):\n",
    " print ('\\n{} of kfold {} '.format(i,kf.n_splits))\n",
    " \n",
    " xtd = X.loc[train_index]\n",
    " xvalue = X.loc[test_index]\n",
    " \n",
    " ytd = y[train_index]\n",
    " yvalue = y[test_index]\n",
    " \n",
    " kneighourModel.fit(xtd,ytd)\n",
    " \n",
    " pred_test=kneighourModel.predict(xvalue)\n",
    " score=accuracy_score(yvalue,pred_test)\n",
    " mean += score\n",
    " print ('accuracy_score',score)\n",
    " i+=1\n",
    " result.append(score)\n",
    "\n",
    "print ('\\n Mean Validation Accuracy',mean/(i-1))\n",
    "models.append(('KN', kneighourModel))\n",
    "results.append(result)\n",
    "names.append('KN')"
   ]
  },
  {
   "cell_type": "markdown",
   "metadata": {},
   "source": [
    "### Support Vector Machine Classifier"
   ]
  },
  {
   "cell_type": "code",
   "execution_count": 48,
   "metadata": {},
   "outputs": [
    {
     "name": "stdout",
     "output_type": "stream",
     "text": [
      "\n",
      "1 of kfold 5 \n",
      "accuracy_score 0.6504065040650406\n",
      "\n",
      "2 of kfold 5 \n",
      "accuracy_score 0.6747967479674797\n",
      "\n",
      "3 of kfold 5 \n",
      "accuracy_score 0.6504065040650406\n",
      "\n",
      "4 of kfold 5 \n",
      "accuracy_score 0.6666666666666666\n",
      "\n",
      "5 of kfold 5 \n",
      "accuracy_score 0.6065573770491803\n",
      "\n",
      " Mean Validation Accuracy 0.6497667599626815\n"
     ]
    }
   ],
   "source": [
    "i=1\n",
    "mean = 0\n",
    "result = []\n",
    "kf = StratifiedKFold(n_splits=5,random_state=1,shuffle=True)\n",
    "svcModel = SVC(gamma='auto')\n",
    "for train_index,test_index in kf.split(X,y):\n",
    " print ('\\n{} of kfold {} '.format(i,kf.n_splits))\n",
    " \n",
    " xtd = X.loc[train_index]\n",
    " xvalue = X.loc[test_index]\n",
    " \n",
    " ytd = y[train_index]\n",
    " yvalue = y[test_index]\n",
    " \n",
    " svcModel.fit(xtd,ytd)\n",
    " \n",
    " pred_test=svcModel.predict(xvalue)\n",
    " score=accuracy_score(yvalue,pred_test)\n",
    " mean += score\n",
    " print ('accuracy_score',score)\n",
    " i+=1\n",
    " result.append(score)\n",
    "\n",
    "print ('\\n Mean Validation Accuracy',mean/(i-1))\n",
    "models.append(('SVM', svcModel))\n",
    "results.append(result)\n",
    "names.append('SVM')"
   ]
  },
  {
   "cell_type": "markdown",
   "metadata": {},
   "source": [
    "### Random Forest Classifier"
   ]
  },
  {
   "cell_type": "code",
   "execution_count": 49,
   "metadata": {},
   "outputs": [
    {
     "name": "stdout",
     "output_type": "stream",
     "text": [
      "\n",
      "1 of kfold 5 \n",
      "accuracy_score 0.8211382113821138\n",
      "\n",
      "2 of kfold 5 \n",
      "accuracy_score 0.7967479674796748\n",
      "\n",
      "3 of kfold 5 \n",
      "accuracy_score 0.7886178861788617\n",
      "\n",
      "4 of kfold 5 \n",
      "accuracy_score 0.7967479674796748\n",
      "\n",
      "5 of kfold 5 \n",
      "accuracy_score 0.7786885245901639\n",
      "\n",
      " Mean Validation Accuracy 0.7963881114220979\n"
     ]
    }
   ],
   "source": [
    "from sklearn.model_selection import cross_val_score\n",
    "i=1\n",
    "mean = 0\n",
    "result = []\n",
    "kf = StratifiedKFold(n_splits=5,random_state=1,shuffle=True)\n",
    "rfcModel = RandomForestClassifier(random_state=1, max_depth=10)\n",
    "for train_index,test_index in kf.split(X,y):\n",
    " print ('\\n{} of kfold {} '.format(i,kf.n_splits))\n",
    " \n",
    " xtd = X.loc[train_index]\n",
    " xvalue = X.loc[test_index]\n",
    " \n",
    " ytd = y[train_index]\n",
    " yvalue = y[test_index]\n",
    " \n",
    " rfcModel.fit(xtd,ytd)\n",
    " \n",
    " pred_test=rfcModel.predict(xvalue)\n",
    " score=accuracy_score(yvalue,pred_test)\n",
    " mean += score\n",
    " \n",
    " print ('accuracy_score',score)\n",
    " i+=1\n",
    " result.append(score)\n",
    "\n",
    "print ('\\n Mean Validation Accuracy',mean/(i-1))\n",
    "models.append(('RFC', rfcModel))\n",
    "results.append(result)\n",
    "names.append('RFC')"
   ]
  },
  {
   "cell_type": "markdown",
   "metadata": {},
   "source": [
    "__Lets do some basic metric estimations for all these models. We are running the models only once instead of 5 times so these details are nearby estimates__"
   ]
  },
  {
   "cell_type": "code",
   "execution_count": 50,
   "metadata": {},
   "outputs": [
    {
     "name": "stdout",
     "output_type": "stream",
     "text": [
      "Prediction: LR 19.000000 \n",
      "[[22 16]\n",
      " [ 3 82]]\n",
      "              precision    recall  f1-score   support\n",
      "\n",
      "           0       0.88      0.58      0.70        38\n",
      "           1       0.84      0.96      0.90        85\n",
      "\n",
      "    accuracy                           0.85       123\n",
      "   macro avg       0.86      0.77      0.80       123\n",
      "weighted avg       0.85      0.85      0.84       123\n",
      "\n",
      "\n",
      "\n",
      "Prediction: DTree 34.000000 \n",
      "[[24 14]\n",
      " [20 65]]\n",
      "              precision    recall  f1-score   support\n",
      "\n",
      "           0       0.55      0.63      0.59        38\n",
      "           1       0.82      0.76      0.79        85\n",
      "\n",
      "    accuracy                           0.72       123\n",
      "   macro avg       0.68      0.70      0.69       123\n",
      "weighted avg       0.74      0.72      0.73       123\n",
      "\n",
      "\n",
      "\n",
      "Prediction: KN 53.000000 \n",
      "[[ 3 35]\n",
      " [18 67]]\n",
      "              precision    recall  f1-score   support\n",
      "\n",
      "           0       0.14      0.08      0.10        38\n",
      "           1       0.66      0.79      0.72        85\n",
      "\n",
      "    accuracy                           0.57       123\n",
      "   macro avg       0.40      0.43      0.41       123\n",
      "weighted avg       0.50      0.57      0.53       123\n",
      "\n",
      "\n",
      "\n",
      "Prediction: SVM 41.000000 \n",
      "[[ 1 37]\n",
      " [ 4 81]]\n",
      "              precision    recall  f1-score   support\n",
      "\n",
      "           0       0.20      0.03      0.05        38\n",
      "           1       0.69      0.95      0.80        85\n",
      "\n",
      "    accuracy                           0.67       123\n",
      "   macro avg       0.44      0.49      0.42       123\n",
      "weighted avg       0.54      0.67      0.57       123\n",
      "\n",
      "\n",
      "\n",
      "Prediction: RFC 22.000000 \n",
      "[[22 16]\n",
      " [ 6 79]]\n",
      "              precision    recall  f1-score   support\n",
      "\n",
      "           0       0.79      0.58      0.67        38\n",
      "           1       0.83      0.93      0.88        85\n",
      "\n",
      "    accuracy                           0.82       123\n",
      "   macro avg       0.81      0.75      0.77       123\n",
      "weighted avg       0.82      0.82      0.81       123\n",
      "\n",
      "\n",
      "\n"
     ]
    }
   ],
   "source": [
    "for name, model in models:\n",
    "  y_pred = model.fit(x_train, y_train).predict(x_cv)\n",
    "  print('Prediction: %s %f ' % (name, (y_cv != y_pred).sum()))\n",
    "\n",
    "  # Evaluate predictions\n",
    "  print(confusion_matrix(y_cv, y_pred))\n",
    "  print(classification_report(y_cv, y_pred))\n",
    "\n",
    "  print()\n",
    "  print()"
   ]
  },
  {
   "cell_type": "markdown",
   "metadata": {},
   "source": [
    "## Comparision of All Algorithms"
   ]
  },
  {
   "cell_type": "code",
   "execution_count": 51,
   "metadata": {},
   "outputs": [
    {
     "data": {
      "text/plain": [
       "Text(0.5, 1.0, 'Comparision of Models')"
      ]
     },
     "execution_count": 51,
     "metadata": {},
     "output_type": "execute_result"
    },
    {
     "data": {
      "image/png": "[encoded data removed]",
      "text/plain": [
       "<Figure size 576x576 with 1 Axes>"
      ]
     },
     "metadata": {
      "needs_background": "light"
     },
     "output_type": "display_data"
    }
   ],
   "source": [
    "np_data = np.array(results)\n",
    "np_data = np.transpose(np_data)\n",
    "fig, ax = plt.subplots(1, 1, figsize=(8,8))\n",
    "ax.boxplot(np_data, labels=names, vert=True)\n",
    "plt.ylim(0.50, 1.0)\n",
    "plt.title('Comparision of Models')"
   ]
  },
  {
   "cell_type": "markdown",
   "metadata": {},
   "source": [
    "## Final Notes"
   ]
  },
  {
   "cell_type": "markdown",
   "metadata": {},
   "source": [
    "This way we can choose the best suited model for this prediction.\n",
    "\n",
    "We can use these models against some test data and then get even better prediction accuracies.\n"
   ]
  }
 ],
 "metadata": {
  "kernelspec": {
   "display_name": "Python 3",
   "language": "python",
   "name": "python3"
  },
  "language_info": {
   "codemirror_mode": {
    "name": "ipython",
    "version": 3
   },
   "file_extension": ".py",
   "mimetype": "text/x-python",
   "name": "python",
   "nbconvert_exporter": "python",
   "pygments_lexer": "ipython3",
   "version": "3.8.3"
  }
 },
 "nbformat": 4,
 "nbformat_minor": 4
}
