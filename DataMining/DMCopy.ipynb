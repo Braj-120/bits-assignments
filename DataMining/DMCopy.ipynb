{
 "cells": [
  {
   "cell_type": "code",
   "execution_count": null,
   "metadata": {
    "id": "qN5kevRhrJmk"
   },
   "outputs": [],
   "source": [
    "import numpy as np\n",
    "import pandas as pd\n",
    "import seaborn as sns\n",
    "import matplotlib.pyplot as plt\n",
    "from statistics import mode, median\n",
    "\n",
    "from sklearn import preprocessing\n",
    "from sklearn.preprocessing import StandardScaler\n",
    "from sklearn.model_selection import train_test_split \n",
    "\n",
    "from sklearn import tree\n",
    "from sklearn.tree import DecisionTreeClassifier\n",
    "from sklearn.linear_model import LogisticRegression\n",
    "\n",
    "from sklearn import metrics\n",
    "from sklearn.metrics import confusion_matrix\n",
    "from sklearn.metrics import plot_confusion_matrix\n",
    "\n",
    "from sklearn.model_selection import cross_val_score\n",
    "from sklearn.model_selection import StratifiedKFold\n",
    "from sklearn.neighbors import KNeighborsClassifier\n",
    "from sklearn.svm import SVC"
   ]
  },
  {
   "cell_type": "code",
   "execution_count": null,
   "metadata": {
    "id": "BUfXvshWtqh9"
   },
   "outputs": [],
   "source": [
    "#df = pd.read_csv(\"sample_data/loan1.csv\")\n",
    "df = pd.read_csv(\"sample_data/LoanApplicantData.csv\")"
   ]
  },
  {
   "cell_type": "code",
   "execution_count": null,
   "metadata": {
    "colab": {
     "base_uri": "https://localhost:8080/",
     "height": 204
    },
    "id": "XRkDYdXntq14",
    "outputId": "ef850354-6915-483e-8997-347ec082e409"
   },
   "outputs": [
    {
     "data": {
      "text/html": [
       "<div>\n",
       "<style scoped>\n",
       "    .dataframe tbody tr th:only-of-type {\n",
       "        vertical-align: middle;\n",
       "    }\n",
       "\n",
       "    .dataframe tbody tr th {\n",
       "        vertical-align: top;\n",
       "    }\n",
       "\n",
       "    .dataframe thead th {\n",
       "        text-align: right;\n",
       "    }\n",
       "</style>\n",
       "<table border=\"1\" class=\"dataframe\">\n",
       "  <thead>\n",
       "    <tr style=\"text-align: right;\">\n",
       "      <th></th>\n",
       "      <th>Loan_ID</th>\n",
       "      <th>Gender</th>\n",
       "      <th>Married</th>\n",
       "      <th>Dependents</th>\n",
       "      <th>Education</th>\n",
       "      <th>Self_Employed</th>\n",
       "      <th>ApplicantIncome</th>\n",
       "      <th>CoapplicantIncome</th>\n",
       "      <th>LoanAmount</th>\n",
       "      <th>Loan_Amount_Term</th>\n",
       "      <th>Credit_History</th>\n",
       "      <th>Property_Area</th>\n",
       "      <th>Loan_Status</th>\n",
       "    </tr>\n",
       "  </thead>\n",
       "  <tbody>\n",
       "    <tr>\n",
       "      <th>0</th>\n",
       "      <td>LP001002</td>\n",
       "      <td>Male</td>\n",
       "      <td>No</td>\n",
       "      <td>0</td>\n",
       "      <td>Graduate</td>\n",
       "      <td>No</td>\n",
       "      <td>5849</td>\n",
       "      <td>0.0</td>\n",
       "      <td>NaN</td>\n",
       "      <td>360.0</td>\n",
       "      <td>1.0</td>\n",
       "      <td>Urban</td>\n",
       "      <td>Y</td>\n",
       "    </tr>\n",
       "    <tr>\n",
       "      <th>1</th>\n",
       "      <td>LP001003</td>\n",
       "      <td>Male</td>\n",
       "      <td>Yes</td>\n",
       "      <td>1</td>\n",
       "      <td>Graduate</td>\n",
       "      <td>No</td>\n",
       "      <td>4583</td>\n",
       "      <td>1508.0</td>\n",
       "      <td>128.0</td>\n",
       "      <td>360.0</td>\n",
       "      <td>1.0</td>\n",
       "      <td>Rural</td>\n",
       "      <td>N</td>\n",
       "    </tr>\n",
       "    <tr>\n",
       "      <th>2</th>\n",
       "      <td>LP001005</td>\n",
       "      <td>Male</td>\n",
       "      <td>Yes</td>\n",
       "      <td>0</td>\n",
       "      <td>Graduate</td>\n",
       "      <td>Yes</td>\n",
       "      <td>3000</td>\n",
       "      <td>0.0</td>\n",
       "      <td>66.0</td>\n",
       "      <td>360.0</td>\n",
       "      <td>1.0</td>\n",
       "      <td>Urban</td>\n",
       "      <td>Y</td>\n",
       "    </tr>\n",
       "    <tr>\n",
       "      <th>3</th>\n",
       "      <td>LP001006</td>\n",
       "      <td>Male</td>\n",
       "      <td>Yes</td>\n",
       "      <td>0</td>\n",
       "      <td>Not Graduate</td>\n",
       "      <td>No</td>\n",
       "      <td>2583</td>\n",
       "      <td>2358.0</td>\n",
       "      <td>120.0</td>\n",
       "      <td>360.0</td>\n",
       "      <td>1.0</td>\n",
       "      <td>Urban</td>\n",
       "      <td>Y</td>\n",
       "    </tr>\n",
       "    <tr>\n",
       "      <th>4</th>\n",
       "      <td>LP001008</td>\n",
       "      <td>Male</td>\n",
       "      <td>No</td>\n",
       "      <td>0</td>\n",
       "      <td>Graduate</td>\n",
       "      <td>No</td>\n",
       "      <td>6000</td>\n",
       "      <td>0.0</td>\n",
       "      <td>141.0</td>\n",
       "      <td>360.0</td>\n",
       "      <td>1.0</td>\n",
       "      <td>Urban</td>\n",
       "      <td>Y</td>\n",
       "    </tr>\n",
       "  </tbody>\n",
       "</table>\n",
       "</div>"
      ],
      "text/plain": [
       "    Loan_ID Gender Married  ... Credit_History Property_Area Loan_Status\n",
       "0  LP001002   Male      No  ...            1.0         Urban           Y\n",
       "1  LP001003   Male     Yes  ...            1.0         Rural           N\n",
       "2  LP001005   Male     Yes  ...            1.0         Urban           Y\n",
       "3  LP001006   Male     Yes  ...            1.0         Urban           Y\n",
       "4  LP001008   Male      No  ...            1.0         Urban           Y\n",
       "\n",
       "[5 rows x 13 columns]"
      ]
     },
     "execution_count": 293,
     "metadata": {
      "tags": []
     },
     "output_type": "execute_result"
    }
   ],
   "source": [
    "df.head()"
   ]
  },
  {
   "cell_type": "code",
   "execution_count": null,
   "metadata": {
    "colab": {
     "base_uri": "https://localhost:8080/",
     "height": 91
    },
    "id": "4ZJ_M0f1ttsW",
    "outputId": "7f70178c-4f45-46dc-ec40-78b26451dc25"
   },
   "outputs": [
    {
     "data": {
      "image/png": "[encoded data removed]",
      "text/plain": [
       "<Figure size 1440x720 with 144 Axes>"
      ]
     },
     "metadata": {
      "needs_background": "light",
      "tags": []
     },
     "output_type": "display_data"
    }
   ],
   "source": [
    "## This plot helps to identify outliners of data\n",
    "# box and whisker plots\n",
    "\n",
    "df.plot(kind='box', subplots=True, layout=(12,12), sharex=False, figsize=(20,10))\n",
    "plt.show()\n"
   ]
  },
  {
   "cell_type": "code",
   "execution_count": null,
   "metadata": {
    "id": "c1osRK44uV2P"
   },
   "outputs": [],
   "source": [
    "def findIQROutier(column) :\n",
    "  Q1 = np.percentile(column, 25)\n",
    "  Q3 = np.percentile(column, 75)\n",
    "\n",
    "  IQR = Q3 - Q1\n",
    "  Lower = Q1 - (1.5 * IQR)\n",
    "  Higher = Q3 + (1.5 * IQR)\n",
    "\n",
    "  x = column[column > Higher]\n",
    "  y = column[column < Lower]\n",
    "  pd.concat([x,y], axis=1)\n",
    "  \n",
    "  return x\n",
    "    "
   ]
  },
  {
   "cell_type": "code",
   "execution_count": null,
   "metadata": {
    "colab": {
     "base_uri": "https://localhost:8080/"
    },
    "id": "doOz_0Qrx6AG",
    "outputId": "d7d288e0-53ac-41e2-b8b5-da3bfd62fb78"
   },
   "outputs": [
    {
     "name": "stdout",
     "output_type": "stream",
     "text": [
      "CoapplicantIncome Outliers:\n",
      "9      10968.0\n",
      "12      8106.0\n",
      "38      7210.0\n",
      "122     8980.0\n",
      "135     7750.0\n",
      "177    11300.0\n",
      "180     7250.0\n",
      "253     7101.0\n",
      "349     6250.0\n",
      "372     7873.0\n",
      "402    20000.0\n",
      "417    20000.0\n",
      "444     8333.0\n",
      "506     6667.0\n",
      "513     6666.0\n",
      "523     7166.0\n",
      "581    33837.0\n",
      "600    41667.0\n",
      "Name: CoapplicantIncome, dtype: float64\n",
      "ApplicantIncome Outliers:\n",
      "9      12841\n",
      "34     12500\n",
      "54     11500\n",
      "67     10750\n",
      "102    13650\n",
      "106    11417\n",
      "115    14583\n",
      "119    10408\n",
      "126    23803\n",
      "128    10513\n",
      "130    20166\n",
      "138    14999\n",
      "144    11757\n",
      "146    14866\n",
      "155    39999\n",
      "171    51763\n",
      "183    33846\n",
      "185    39147\n",
      "191    12000\n",
      "199    11000\n",
      "254    16250\n",
      "258    14683\n",
      "271    11146\n",
      "278    14583\n",
      "284    20667\n",
      "308    20233\n",
      "324    15000\n",
      "333    63337\n",
      "369    19730\n",
      "370    15759\n",
      "409    81000\n",
      "424    14880\n",
      "432    12876\n",
      "438    10416\n",
      "443    37719\n",
      "467    16692\n",
      "475    16525\n",
      "478    16667\n",
      "483    10833\n",
      "487    18333\n",
      "493    17263\n",
      "506    20833\n",
      "509    13262\n",
      "525    17500\n",
      "533    11250\n",
      "534    18165\n",
      "561    19484\n",
      "572    16666\n",
      "594    16120\n",
      "604    12000\n",
      "Name: ApplicantIncome, dtype: int64\n",
      "LoanAmount Outliers:\n",
      "Series([], Name: LoanAmount, dtype: float64)\n",
      "LoanAmountTerm Outliers:\n",
      "Series([], Name: Loan_Amount_Term, dtype: float64)\n",
      "Credit_History Outliers:\n",
      "Series([], Name: Credit_History, dtype: float64)\n"
     ]
    }
   ],
   "source": [
    "print(\"CoapplicantIncome Outliers:\")\n",
    "print(findIQROutier(df['CoapplicantIncome']))\n",
    "\n",
    "print(\"ApplicantIncome Outliers:\")\n",
    "print(findIQROutier(df['ApplicantIncome']))\n",
    "\n",
    "print(\"LoanAmount Outliers:\")\n",
    "print(findIQROutier(df['LoanAmount']))\n",
    "\n",
    "print(\"LoanAmountTerm Outliers:\")\n",
    "print(findIQROutier(df['Loan_Amount_Term']))\n",
    "\n",
    "print(\"Credit_History Outliers:\")\n",
    "print(findIQROutier(df['Credit_History']))\n",
    "\n",
    "# handler outliers: Considered as missing value & handle in that way"
   ]
  },
  {
   "cell_type": "code",
   "execution_count": null,
   "metadata": {
    "colab": {
     "base_uri": "https://localhost:8080/"
    },
    "id": "CPA6xeHIqsaD",
    "outputId": "6edb707f-e63d-41c6-858f-ab44c965001b"
   },
   "outputs": [
    {
     "data": {
      "text/plain": [
       "Loan_ID               0\n",
       "Gender               13\n",
       "Married               3\n",
       "Dependents           15\n",
       "Education             0\n",
       "Self_Employed        32\n",
       "ApplicantIncome       0\n",
       "CoapplicantIncome     0\n",
       "LoanAmount           22\n",
       "Loan_Amount_Term     14\n",
       "Credit_History       50\n",
       "Property_Area         0\n",
       "Loan_Status           0\n",
       "dtype: int64"
      ]
     },
     "execution_count": 298,
     "metadata": {
      "tags": []
     },
     "output_type": "execute_result"
    }
   ],
   "source": [
    "df.isnull().sum()"
   ]
  },
  {
   "cell_type": "code",
   "execution_count": null,
   "metadata": {
    "id": "R241I2wHsNsZ"
   },
   "outputs": [],
   "source": [
    "# DropNa \n",
    "#df.dropna(inplace=True)\n",
    "\n",
    "gender_mode = mode(df['Gender'])\n",
    "married_mode = mode(df['Married'])\n",
    "dependents_mode = mode(df['Dependents'])\n",
    "self_employed_mode = mode(df['Self_Employed'])\n",
    "loanamount_mean = np.mean(df['LoanAmount'])\n",
    "loanamount_term_mean = np.mean(df['Loan_Amount_Term'])\n",
    "credit_history_mode = mode(df['Credit_History'])\n",
    "\n",
    "df['Gender'].fillna(gender_mode, inplace=True)\n",
    "df['Married'].fillna(married_mode, inplace=True)\n",
    "df['Dependents'].fillna(dependents_mode, inplace=True)\n",
    "df['Self_Employed'].fillna(self_employed_mode, inplace=True)\n",
    "df['LoanAmount'].fillna(loanamount_mean, inplace=True)\n",
    "df['Loan_Amount_Term'].fillna(loanamount_term_mean, inplace=True)\n",
    "df['Credit_History'].fillna(credit_history_mode, inplace=True)"
   ]
  },
  {
   "cell_type": "code",
   "execution_count": null,
   "metadata": {
    "colab": {
     "base_uri": "https://localhost:8080/"
    },
    "id": "1ESirXrCsgS2",
    "outputId": "b655ef07-29ad-4a55-d92b-7fdaca9c054c"
   },
   "outputs": [
    {
     "data": {
      "text/plain": [
       "Loan_ID              0\n",
       "Gender               0\n",
       "Married              0\n",
       "Dependents           0\n",
       "Education            0\n",
       "Self_Employed        0\n",
       "ApplicantIncome      0\n",
       "CoapplicantIncome    0\n",
       "LoanAmount           0\n",
       "Loan_Amount_Term     0\n",
       "Credit_History       0\n",
       "Property_Area        0\n",
       "Loan_Status          0\n",
       "dtype: int64"
      ]
     },
     "execution_count": 300,
     "metadata": {
      "tags": []
     },
     "output_type": "execute_result"
    }
   ],
   "source": [
    "df.isnull().sum()"
   ]
  },
  {
   "cell_type": "code",
   "execution_count": null,
   "metadata": {
    "colab": {
     "base_uri": "https://localhost:8080/",
     "height": 450
    },
    "id": "v9gPKtRtsijB",
    "outputId": "d6cc42f3-cad8-4e58-a755-08522b51528b"
   },
   "outputs": [
    {
     "data": {
      "text/html": [
       "<div>\n",
       "<style scoped>\n",
       "    .dataframe tbody tr th:only-of-type {\n",
       "        vertical-align: middle;\n",
       "    }\n",
       "\n",
       "    .dataframe tbody tr th {\n",
       "        vertical-align: top;\n",
       "    }\n",
       "\n",
       "    .dataframe thead th {\n",
       "        text-align: right;\n",
       "    }\n",
       "</style>\n",
       "<table border=\"1\" class=\"dataframe\">\n",
       "  <thead>\n",
       "    <tr style=\"text-align: right;\">\n",
       "      <th></th>\n",
       "      <th>Gender</th>\n",
       "      <th>Married</th>\n",
       "      <th>Dependents</th>\n",
       "      <th>Education</th>\n",
       "      <th>Self_Employed</th>\n",
       "      <th>ApplicantIncome</th>\n",
       "      <th>CoapplicantIncome</th>\n",
       "      <th>LoanAmount</th>\n",
       "      <th>Loan_Amount_Term</th>\n",
       "      <th>Credit_History</th>\n",
       "      <th>Property_Area</th>\n",
       "      <th>Loan_Status</th>\n",
       "    </tr>\n",
       "    <tr>\n",
       "      <th>Loan_ID</th>\n",
       "      <th></th>\n",
       "      <th></th>\n",
       "      <th></th>\n",
       "      <th></th>\n",
       "      <th></th>\n",
       "      <th></th>\n",
       "      <th></th>\n",
       "      <th></th>\n",
       "      <th></th>\n",
       "      <th></th>\n",
       "      <th></th>\n",
       "      <th></th>\n",
       "    </tr>\n",
       "  </thead>\n",
       "  <tbody>\n",
       "    <tr>\n",
       "      <th>LP001003</th>\n",
       "      <td>Male</td>\n",
       "      <td>Yes</td>\n",
       "      <td>1</td>\n",
       "      <td>Graduate</td>\n",
       "      <td>No</td>\n",
       "      <td>4583</td>\n",
       "      <td>1508.0</td>\n",
       "      <td>128.0</td>\n",
       "      <td>360.0</td>\n",
       "      <td>1.0</td>\n",
       "      <td>Rural</td>\n",
       "      <td>N</td>\n",
       "    </tr>\n",
       "    <tr>\n",
       "      <th>LP001005</th>\n",
       "      <td>Male</td>\n",
       "      <td>Yes</td>\n",
       "      <td>0</td>\n",
       "      <td>Graduate</td>\n",
       "      <td>Yes</td>\n",
       "      <td>3000</td>\n",
       "      <td>0.0</td>\n",
       "      <td>66.0</td>\n",
       "      <td>360.0</td>\n",
       "      <td>1.0</td>\n",
       "      <td>Urban</td>\n",
       "      <td>Y</td>\n",
       "    </tr>\n",
       "    <tr>\n",
       "      <th>LP001006</th>\n",
       "      <td>Male</td>\n",
       "      <td>Yes</td>\n",
       "      <td>0</td>\n",
       "      <td>Not Graduate</td>\n",
       "      <td>No</td>\n",
       "      <td>2583</td>\n",
       "      <td>2358.0</td>\n",
       "      <td>120.0</td>\n",
       "      <td>360.0</td>\n",
       "      <td>1.0</td>\n",
       "      <td>Urban</td>\n",
       "      <td>Y</td>\n",
       "    </tr>\n",
       "    <tr>\n",
       "      <th>LP001008</th>\n",
       "      <td>Male</td>\n",
       "      <td>No</td>\n",
       "      <td>0</td>\n",
       "      <td>Graduate</td>\n",
       "      <td>No</td>\n",
       "      <td>6000</td>\n",
       "      <td>0.0</td>\n",
       "      <td>141.0</td>\n",
       "      <td>360.0</td>\n",
       "      <td>1.0</td>\n",
       "      <td>Urban</td>\n",
       "      <td>Y</td>\n",
       "    </tr>\n",
       "    <tr>\n",
       "      <th>LP001011</th>\n",
       "      <td>Male</td>\n",
       "      <td>Yes</td>\n",
       "      <td>2</td>\n",
       "      <td>Graduate</td>\n",
       "      <td>Yes</td>\n",
       "      <td>5417</td>\n",
       "      <td>4196.0</td>\n",
       "      <td>267.0</td>\n",
       "      <td>360.0</td>\n",
       "      <td>1.0</td>\n",
       "      <td>Urban</td>\n",
       "      <td>Y</td>\n",
       "    </tr>\n",
       "    <tr>\n",
       "      <th>...</th>\n",
       "      <td>...</td>\n",
       "      <td>...</td>\n",
       "      <td>...</td>\n",
       "      <td>...</td>\n",
       "      <td>...</td>\n",
       "      <td>...</td>\n",
       "      <td>...</td>\n",
       "      <td>...</td>\n",
       "      <td>...</td>\n",
       "      <td>...</td>\n",
       "      <td>...</td>\n",
       "      <td>...</td>\n",
       "    </tr>\n",
       "    <tr>\n",
       "      <th>LP002978</th>\n",
       "      <td>Female</td>\n",
       "      <td>No</td>\n",
       "      <td>0</td>\n",
       "      <td>Graduate</td>\n",
       "      <td>No</td>\n",
       "      <td>2900</td>\n",
       "      <td>0.0</td>\n",
       "      <td>71.0</td>\n",
       "      <td>360.0</td>\n",
       "      <td>1.0</td>\n",
       "      <td>Rural</td>\n",
       "      <td>Y</td>\n",
       "    </tr>\n",
       "    <tr>\n",
       "      <th>LP002979</th>\n",
       "      <td>Male</td>\n",
       "      <td>Yes</td>\n",
       "      <td>3+</td>\n",
       "      <td>Graduate</td>\n",
       "      <td>No</td>\n",
       "      <td>4106</td>\n",
       "      <td>0.0</td>\n",
       "      <td>40.0</td>\n",
       "      <td>180.0</td>\n",
       "      <td>1.0</td>\n",
       "      <td>Rural</td>\n",
       "      <td>Y</td>\n",
       "    </tr>\n",
       "    <tr>\n",
       "      <th>LP002983</th>\n",
       "      <td>Male</td>\n",
       "      <td>Yes</td>\n",
       "      <td>1</td>\n",
       "      <td>Graduate</td>\n",
       "      <td>No</td>\n",
       "      <td>8072</td>\n",
       "      <td>240.0</td>\n",
       "      <td>253.0</td>\n",
       "      <td>360.0</td>\n",
       "      <td>1.0</td>\n",
       "      <td>Urban</td>\n",
       "      <td>Y</td>\n",
       "    </tr>\n",
       "    <tr>\n",
       "      <th>LP002984</th>\n",
       "      <td>Male</td>\n",
       "      <td>Yes</td>\n",
       "      <td>2</td>\n",
       "      <td>Graduate</td>\n",
       "      <td>No</td>\n",
       "      <td>7583</td>\n",
       "      <td>0.0</td>\n",
       "      <td>187.0</td>\n",
       "      <td>360.0</td>\n",
       "      <td>1.0</td>\n",
       "      <td>Urban</td>\n",
       "      <td>Y</td>\n",
       "    </tr>\n",
       "    <tr>\n",
       "      <th>LP002990</th>\n",
       "      <td>Female</td>\n",
       "      <td>No</td>\n",
       "      <td>0</td>\n",
       "      <td>Graduate</td>\n",
       "      <td>Yes</td>\n",
       "      <td>4583</td>\n",
       "      <td>0.0</td>\n",
       "      <td>133.0</td>\n",
       "      <td>360.0</td>\n",
       "      <td>0.0</td>\n",
       "      <td>Semiurban</td>\n",
       "      <td>N</td>\n",
       "    </tr>\n",
       "  </tbody>\n",
       "</table>\n",
       "<p>480 rows × 12 columns</p>\n",
       "</div>"
      ],
      "text/plain": [
       "          Gender Married Dependents  ... Credit_History Property_Area  Loan_Status\n",
       "Loan_ID                              ...                                          \n",
       "LP001003    Male     Yes          1  ...            1.0         Rural            N\n",
       "LP001005    Male     Yes          0  ...            1.0         Urban            Y\n",
       "LP001006    Male     Yes          0  ...            1.0         Urban            Y\n",
       "LP001008    Male      No          0  ...            1.0         Urban            Y\n",
       "LP001011    Male     Yes          2  ...            1.0         Urban            Y\n",
       "...          ...     ...        ...  ...            ...           ...          ...\n",
       "LP002978  Female      No          0  ...            1.0         Rural            Y\n",
       "LP002979    Male     Yes         3+  ...            1.0         Rural            Y\n",
       "LP002983    Male     Yes          1  ...            1.0         Urban            Y\n",
       "LP002984    Male     Yes          2  ...            1.0         Urban            Y\n",
       "LP002990  Female      No          0  ...            0.0     Semiurban            N\n",
       "\n",
       "[480 rows x 12 columns]"
      ]
     },
     "execution_count": 301,
     "metadata": {
      "tags": []
     },
     "output_type": "execute_result"
    }
   ],
   "source": [
    "df.set_index('Loan_ID')"
   ]
  },
  {
   "cell_type": "code",
   "execution_count": null,
   "metadata": {
    "colab": {
     "base_uri": "https://localhost:8080/",
     "height": 373
    },
    "id": "UMngjg-auJUL",
    "outputId": "e2fcef3b-0bbc-49bd-897a-85e5e05c8bf3"
   },
   "outputs": [
    {
     "data": {
      "text/plain": [
       "<matplotlib.axes._subplots.AxesSubplot at 0x7fdf56f73518>"
      ]
     },
     "execution_count": 302,
     "metadata": {
      "tags": []
     },
     "output_type": "execute_result"
    },
    {
     "data": {
      "image/png": "[encoded data removed]",
      "text/plain": [
       "<Figure size 432x288 with 1 Axes>"
      ]
     },
     "metadata": {
      "needs_background": "light",
      "tags": []
     },
     "output_type": "display_data"
    }
   ],
   "source": [
    "sns.heatmap(df.isnull(), cbar=False)"
   ]
  },
  {
   "cell_type": "code",
   "execution_count": null,
   "metadata": {
    "colab": {
     "base_uri": "https://localhost:8080/",
     "height": 294
    },
    "id": "zBs7qxCrFRqh",
    "outputId": "4dc56483-6daa-431c-cff2-7a0b12eb35f2"
   },
   "outputs": [
    {
     "data": {
      "image/png": "[encoded data removed]",
      "text/plain": [
       "<Figure size 432x288 with 1 Axes>"
      ]
     },
     "metadata": {
      "needs_background": "light",
      "tags": []
     },
     "output_type": "display_data"
    }
   ],
   "source": [
    "y = \"Loan Status\"\n",
    "ax = df['Loan_Status'].value_counts().sort_values().plot(kind=\"barh\")\n",
    "## further lines not needed actually, we can plot the directly by printing ax only\n",
    "totals = []\n",
    "for i in ax.patches:\n",
    "  totals.append(i.get_width())\n",
    "total = sum(totals)\n",
    "for i in ax.patches:\n",
    "  ax.text(\n",
    "      i.get_width()+.3, \n",
    "      i.get_y()+.20, \n",
    "      str(round((i.get_width()/total)*100, 2))+'%',\n",
    "      fontsize=10, color='black')\n",
    "ax.grid(axis='x')\n",
    "plt.suptitle(y, fontsize=20)\n",
    "plt.show()"
   ]
  },
  {
   "cell_type": "code",
   "execution_count": null,
   "metadata": {
    "colab": {
     "base_uri": "https://localhost:8080/"
    },
    "id": "fF73wMNZufqp",
    "outputId": "091451bb-6f50-435a-92e6-1bd3e84d2553"
   },
   "outputs": [
    {
     "name": "stderr",
     "output_type": "stream",
     "text": [
      "/usr/local/lib/python3.6/dist-packages/ipykernel_launcher.py:22: SettingWithCopyWarning: \n",
      "A value is trying to be set on a copy of a slice from a DataFrame\n",
      "\n",
      "See the caveats in the documentation: https://pandas.pydata.org/pandas-docs/stable/user_guide/indexing.html#returning-a-view-versus-a-copy\n",
      "/usr/local/lib/python3.6/dist-packages/ipykernel_launcher.py:23: SettingWithCopyWarning: \n",
      "A value is trying to be set on a copy of a slice from a DataFrame\n",
      "\n",
      "See the caveats in the documentation: https://pandas.pydata.org/pandas-docs/stable/user_guide/indexing.html#returning-a-view-versus-a-copy\n",
      "/usr/local/lib/python3.6/dist-packages/ipykernel_launcher.py:24: SettingWithCopyWarning: \n",
      "A value is trying to be set on a copy of a slice from a DataFrame\n",
      "\n",
      "See the caveats in the documentation: https://pandas.pydata.org/pandas-docs/stable/user_guide/indexing.html#returning-a-view-versus-a-copy\n",
      "/usr/local/lib/python3.6/dist-packages/ipykernel_launcher.py:26: SettingWithCopyWarning: \n",
      "A value is trying to be set on a copy of a slice from a DataFrame\n",
      "\n",
      "See the caveats in the documentation: https://pandas.pydata.org/pandas-docs/stable/user_guide/indexing.html#returning-a-view-versus-a-copy\n",
      "/usr/local/lib/python3.6/dist-packages/ipykernel_launcher.py:27: SettingWithCopyWarning: \n",
      "A value is trying to be set on a copy of a slice from a DataFrame\n",
      "\n",
      "See the caveats in the documentation: https://pandas.pydata.org/pandas-docs/stable/user_guide/indexing.html#returning-a-view-versus-a-copy\n"
     ]
    }
   ],
   "source": [
    "# remove \"+\" from values like 3+\n",
    "df['Dependents'] = df['Dependents'].apply(lambda x: x.replace('+', '') if isinstance(x, str) else '')\n",
    "\n",
    "df_male = pd.get_dummies(df['Gender'], drop_first=True, )\n",
    "df['Gender'] = df_male\n",
    "#df = pd.concat([df, df_male], axis=1)\n",
    "\n",
    "# # create new column with Married values\n",
    "df_married = pd.get_dummies(df['Married'], prefix=\"Is_Married\", drop_first=True)\n",
    "df['Married'] = df_married\n",
    "#df = pd.concat([df, df_married], axis=1)\n",
    "\n",
    "\n",
    "# # create new column with SelfEmployed values\n",
    "df_self_employed = pd.get_dummies(df['Self_Employed'], prefix=\"Is_self_Employeed\", drop_first=True)\n",
    "df['Self_Employed'] = df_self_employed\n",
    "#df = pd.concat([df, df_self_employed], axis=1)\n",
    "\n",
    "#Python Local Labeling\n",
    "# Need to choose another way which will more dynamic\n",
    "\n",
    "df.Property_Area[df.Property_Area == 'Urban']=1\n",
    "df.Property_Area[df.Property_Area == 'Semiurban']=2\n",
    "df.Property_Area[df.Property_Area == 'Rural']=3\n",
    "\n",
    "df.Education[df.Education == 'Graduate']=1\n",
    "df.Education[df.Education == 'Not Graduate']=2"
   ]
  },
  {
   "cell_type": "code",
   "execution_count": null,
   "metadata": {
    "colab": {
     "base_uri": "https://localhost:8080/",
     "height": 419
    },
    "id": "Yy7Z2dy11B75",
    "outputId": "e8d6e0b7-e435-4c52-dec9-0d241a6389b9"
   },
   "outputs": [
    {
     "data": {
      "text/html": [
       "<div>\n",
       "<style scoped>\n",
       "    .dataframe tbody tr th:only-of-type {\n",
       "        vertical-align: middle;\n",
       "    }\n",
       "\n",
       "    .dataframe tbody tr th {\n",
       "        vertical-align: top;\n",
       "    }\n",
       "\n",
       "    .dataframe thead th {\n",
       "        text-align: right;\n",
       "    }\n",
       "</style>\n",
       "<table border=\"1\" class=\"dataframe\">\n",
       "  <thead>\n",
       "    <tr style=\"text-align: right;\">\n",
       "      <th></th>\n",
       "      <th>Loan_ID</th>\n",
       "      <th>Gender</th>\n",
       "      <th>Married</th>\n",
       "      <th>Dependents</th>\n",
       "      <th>Education</th>\n",
       "      <th>Self_Employed</th>\n",
       "      <th>ApplicantIncome</th>\n",
       "      <th>CoapplicantIncome</th>\n",
       "      <th>LoanAmount</th>\n",
       "      <th>Loan_Amount_Term</th>\n",
       "      <th>Credit_History</th>\n",
       "      <th>Property_Area</th>\n",
       "      <th>Loan_Status</th>\n",
       "    </tr>\n",
       "  </thead>\n",
       "  <tbody>\n",
       "    <tr>\n",
       "      <th>1</th>\n",
       "      <td>LP001003</td>\n",
       "      <td>1</td>\n",
       "      <td>1</td>\n",
       "      <td>1</td>\n",
       "      <td>1</td>\n",
       "      <td>0</td>\n",
       "      <td>4583</td>\n",
       "      <td>1508.0</td>\n",
       "      <td>128.0</td>\n",
       "      <td>360.0</td>\n",
       "      <td>1.0</td>\n",
       "      <td>3</td>\n",
       "      <td>N</td>\n",
       "    </tr>\n",
       "    <tr>\n",
       "      <th>2</th>\n",
       "      <td>LP001005</td>\n",
       "      <td>1</td>\n",
       "      <td>1</td>\n",
       "      <td>0</td>\n",
       "      <td>1</td>\n",
       "      <td>1</td>\n",
       "      <td>3000</td>\n",
       "      <td>0.0</td>\n",
       "      <td>66.0</td>\n",
       "      <td>360.0</td>\n",
       "      <td>1.0</td>\n",
       "      <td>1</td>\n",
       "      <td>Y</td>\n",
       "    </tr>\n",
       "    <tr>\n",
       "      <th>3</th>\n",
       "      <td>LP001006</td>\n",
       "      <td>1</td>\n",
       "      <td>1</td>\n",
       "      <td>0</td>\n",
       "      <td>2</td>\n",
       "      <td>0</td>\n",
       "      <td>2583</td>\n",
       "      <td>2358.0</td>\n",
       "      <td>120.0</td>\n",
       "      <td>360.0</td>\n",
       "      <td>1.0</td>\n",
       "      <td>1</td>\n",
       "      <td>Y</td>\n",
       "    </tr>\n",
       "    <tr>\n",
       "      <th>4</th>\n",
       "      <td>LP001008</td>\n",
       "      <td>1</td>\n",
       "      <td>0</td>\n",
       "      <td>0</td>\n",
       "      <td>1</td>\n",
       "      <td>0</td>\n",
       "      <td>6000</td>\n",
       "      <td>0.0</td>\n",
       "      <td>141.0</td>\n",
       "      <td>360.0</td>\n",
       "      <td>1.0</td>\n",
       "      <td>1</td>\n",
       "      <td>Y</td>\n",
       "    </tr>\n",
       "    <tr>\n",
       "      <th>5</th>\n",
       "      <td>LP001011</td>\n",
       "      <td>1</td>\n",
       "      <td>1</td>\n",
       "      <td>2</td>\n",
       "      <td>1</td>\n",
       "      <td>1</td>\n",
       "      <td>5417</td>\n",
       "      <td>4196.0</td>\n",
       "      <td>267.0</td>\n",
       "      <td>360.0</td>\n",
       "      <td>1.0</td>\n",
       "      <td>1</td>\n",
       "      <td>Y</td>\n",
       "    </tr>\n",
       "    <tr>\n",
       "      <th>...</th>\n",
       "      <td>...</td>\n",
       "      <td>...</td>\n",
       "      <td>...</td>\n",
       "      <td>...</td>\n",
       "      <td>...</td>\n",
       "      <td>...</td>\n",
       "      <td>...</td>\n",
       "      <td>...</td>\n",
       "      <td>...</td>\n",
       "      <td>...</td>\n",
       "      <td>...</td>\n",
       "      <td>...</td>\n",
       "      <td>...</td>\n",
       "    </tr>\n",
       "    <tr>\n",
       "      <th>609</th>\n",
       "      <td>LP002978</td>\n",
       "      <td>0</td>\n",
       "      <td>0</td>\n",
       "      <td>0</td>\n",
       "      <td>1</td>\n",
       "      <td>0</td>\n",
       "      <td>2900</td>\n",
       "      <td>0.0</td>\n",
       "      <td>71.0</td>\n",
       "      <td>360.0</td>\n",
       "      <td>1.0</td>\n",
       "      <td>3</td>\n",
       "      <td>Y</td>\n",
       "    </tr>\n",
       "    <tr>\n",
       "      <th>610</th>\n",
       "      <td>LP002979</td>\n",
       "      <td>1</td>\n",
       "      <td>1</td>\n",
       "      <td>3</td>\n",
       "      <td>1</td>\n",
       "      <td>0</td>\n",
       "      <td>4106</td>\n",
       "      <td>0.0</td>\n",
       "      <td>40.0</td>\n",
       "      <td>180.0</td>\n",
       "      <td>1.0</td>\n",
       "      <td>3</td>\n",
       "      <td>Y</td>\n",
       "    </tr>\n",
       "    <tr>\n",
       "      <th>611</th>\n",
       "      <td>LP002983</td>\n",
       "      <td>1</td>\n",
       "      <td>1</td>\n",
       "      <td>1</td>\n",
       "      <td>1</td>\n",
       "      <td>0</td>\n",
       "      <td>8072</td>\n",
       "      <td>240.0</td>\n",
       "      <td>253.0</td>\n",
       "      <td>360.0</td>\n",
       "      <td>1.0</td>\n",
       "      <td>1</td>\n",
       "      <td>Y</td>\n",
       "    </tr>\n",
       "    <tr>\n",
       "      <th>612</th>\n",
       "      <td>LP002984</td>\n",
       "      <td>1</td>\n",
       "      <td>1</td>\n",
       "      <td>2</td>\n",
       "      <td>1</td>\n",
       "      <td>0</td>\n",
       "      <td>7583</td>\n",
       "      <td>0.0</td>\n",
       "      <td>187.0</td>\n",
       "      <td>360.0</td>\n",
       "      <td>1.0</td>\n",
       "      <td>1</td>\n",
       "      <td>Y</td>\n",
       "    </tr>\n",
       "    <tr>\n",
       "      <th>613</th>\n",
       "      <td>LP002990</td>\n",
       "      <td>0</td>\n",
       "      <td>0</td>\n",
       "      <td>0</td>\n",
       "      <td>1</td>\n",
       "      <td>1</td>\n",
       "      <td>4583</td>\n",
       "      <td>0.0</td>\n",
       "      <td>133.0</td>\n",
       "      <td>360.0</td>\n",
       "      <td>0.0</td>\n",
       "      <td>2</td>\n",
       "      <td>N</td>\n",
       "    </tr>\n",
       "  </tbody>\n",
       "</table>\n",
       "<p>480 rows × 13 columns</p>\n",
       "</div>"
      ],
      "text/plain": [
       "      Loan_ID  Gender  Married  ... Credit_History Property_Area  Loan_Status\n",
       "1    LP001003       1        1  ...            1.0             3            N\n",
       "2    LP001005       1        1  ...            1.0             1            Y\n",
       "3    LP001006       1        1  ...            1.0             1            Y\n",
       "4    LP001008       1        0  ...            1.0             1            Y\n",
       "5    LP001011       1        1  ...            1.0             1            Y\n",
       "..        ...     ...      ...  ...            ...           ...          ...\n",
       "609  LP002978       0        0  ...            1.0             3            Y\n",
       "610  LP002979       1        1  ...            1.0             3            Y\n",
       "611  LP002983       1        1  ...            1.0             1            Y\n",
       "612  LP002984       1        1  ...            1.0             1            Y\n",
       "613  LP002990       0        0  ...            0.0             2            N\n",
       "\n",
       "[480 rows x 13 columns]"
      ]
     },
     "execution_count": 305,
     "metadata": {
      "tags": []
     },
     "output_type": "execute_result"
    }
   ],
   "source": [
    "df"
   ]
  },
  {
   "cell_type": "code",
   "execution_count": null,
   "metadata": {
    "id": "FB1VP1fg0DKN"
   },
   "outputs": [],
   "source": [
    "import statsmodels.formula.api as smf\n",
    "import statsmodels.api as sm\n",
    "\n",
    "def IsCorrelated(tgt, col):\n",
    " model = smf.ols(col+' ~ '+tgt, data=df).fit()\n",
    " table = sm.stats.anova_lm(model)\n",
    " p = table[\"PR(>F)\"][0]\n",
    " coeff, p = None, round(p, 3)\n",
    " conclusion = \"Correlated\" if p < 0.05 else \"Non-Correlated\"\n",
    " print(\"Anova F: the variables are\", conclusion, \"(p-value: \"+str(p)+\")\")\n",
    " return p < 0.05\n",
    "  "
   ]
  },
  {
   "cell_type": "code",
   "execution_count": null,
   "metadata": {
    "colab": {
     "base_uri": "https://localhost:8080/"
    },
    "id": "Y0qEXgIFu2x4",
    "outputId": "13fc72ac-88ad-4cdc-863a-2b8ad0074901"
   },
   "outputs": [
    {
     "name": "stdout",
     "output_type": "stream",
     "text": [
      "Anova F: the variables are Non-Correlated (p-value: 0.158)\n",
      "Anova F: the variables are Correlated (p-value: 0.014)\n",
      "Anova F: the variables are Non-Correlated (p-value: 0.448)\n",
      "Anova F: the variables are Non-Correlated (p-value: 0.345)\n",
      "Anova F: the variables are Non-Correlated (p-value: 0.284)\n",
      "Anova F: the variables are Non-Correlated (p-value: 0.116)\n",
      "Anova F: the variables are Non-Correlated (p-value: 0.865)\n",
      "Anova F: the variables are Correlated (p-value: 0.0)\n"
     ]
    },
    {
     "data": {
      "text/plain": [
       "['Married', 'Credit_History']"
      ]
     },
     "execution_count": 307,
     "metadata": {
      "tags": []
     },
     "output_type": "execute_result"
    }
   ],
   "source": [
    "target = \"Loan_Status\"\n",
    "\n",
    "feature_names = list()\n",
    "if(IsCorrelated(target, 'Gender')):\n",
    "  feature_names.append('Gender')\n",
    "if(IsCorrelated(target, 'Married')):\n",
    "  feature_names.append('Married')\n",
    "#if(IsCorrelated(target, 'Dependents')):\n",
    "#  feature_names.append('Dependents')\n",
    "if(IsCorrelated(target, 'Self_Employed')):\n",
    "  feature_names.append('Self_Employed')\n",
    "if(IsCorrelated(target, 'ApplicantIncome')):\n",
    "  feature_names.append('ApplicantIncome')\n",
    "if(IsCorrelated(target, 'CoapplicantIncome')):\n",
    "  feature_names.append('CoapplicantIncome')\n",
    "if(IsCorrelated(target, 'LoanAmount')):\n",
    "  feature_names.append('LoanAmount')\n",
    "if(IsCorrelated(target, 'Loan_Amount_Term')):\n",
    "  feature_names.append('Loan_Amount_Term')\n",
    "if(IsCorrelated(target, 'Credit_History')):\n",
    "  feature_names.append('Credit_History')\n",
    "#if(IsCorrelated(target, 'Property_Area')):\n",
    "#  feature_names.append('Property_Area')\n",
    "\n",
    "feature_names"
   ]
  },
  {
   "cell_type": "code",
   "execution_count": null,
   "metadata": {
    "colab": {
     "base_uri": "https://localhost:8080/"
    },
    "id": "R_E3riXovi5D",
    "outputId": "2b32abcb-a728-4013-f65b-5eda691a33b0"
   },
   "outputs": [
    {
     "name": "stdout",
     "output_type": "stream",
     "text": [
      "X size 3840\n",
      "Y size 480\n"
     ]
    }
   ],
   "source": [
    "features = ['Gender', 'Married', 'Self_Employed', 'ApplicantIncome', 'CoapplicantIncome', 'LoanAmount', 'Loan_Amount_Term', 'Credit_History']\n",
    "\n",
    "X = df[features]\n",
    "y = df['Loan_Status']\n",
    "\n",
    "print(\"X size\", X.size)\n",
    "print(\"Y size\", y.size)"
   ]
  },
  {
   "cell_type": "code",
   "execution_count": null,
   "metadata": {
    "id": "hA7ctfaW2SX1"
   },
   "outputs": [],
   "source": [
    "def featureScaling(X_train,X_test):\n",
    "    sc=StandardScaler()\n",
    "    X_train=sc.fit_transform(X_train)\n",
    "    X_test= sc.transform(X_test)\n",
    "    return X_train,X_test"
   ]
  },
  {
   "cell_type": "code",
   "execution_count": null,
   "metadata": {
    "colab": {
     "base_uri": "https://localhost:8080/"
    },
    "id": "BuhNrs_z4J2j",
    "outputId": "93313b6d-4919-4957-a36f-d55588084b71"
   },
   "outputs": [
    {
     "name": "stdout",
     "output_type": "stream",
     "text": [
      "18     N\n",
      "161    N\n",
      "182    Y\n",
      "340    N\n",
      "216    N\n",
      "      ..\n",
      "532    N\n",
      "534    Y\n",
      "142    Y\n",
      "591    N\n",
      "243    Y\n",
      "Name: Loan_Status, Length: 96, dtype: object\n"
     ]
    }
   ],
   "source": [
    "X_train, X_test, y_train, y_test = train_test_split(X, y, train_size=.8, random_state=0)\n",
    "X_train, X_test = featureScaling(X_train, X_test)\n",
    "print(y_test)"
   ]
  },
  {
   "cell_type": "code",
   "execution_count": null,
   "metadata": {
    "id": "tT7oUx1b47iY"
   },
   "outputs": [],
   "source": [
    "# LR = LogisticRegression(solver='lbfgs', dual=False).fit(X_train, y_train)\n",
    "# y_pred = LR.predict(X_test)\n",
    "\n",
    "\n",
    "# print(y_pred)\n",
    "# LR.score(X_test, y_test)"
   ]
  },
  {
   "cell_type": "code",
   "execution_count": null,
   "metadata": {
    "id": "8njLpxwt5boq"
   },
   "outputs": [],
   "source": [
    "# from sklearn.metrics import plot_confusion_matrix\n",
    "# from sklearn.naive_bayes import CategoricalNB\n",
    "\n",
    "# X_train, X_test, y_train, y_test = train_test_split(X, y, train_size=.8, random_state=0)\n",
    "\n",
    "# clf = CategoricalNB().fit(X_train, y_train)\n",
    "# clf_pred = clf.predict(X_test)\n",
    "\n",
    "# clf.score(X_test, y_test)"
   ]
  },
  {
   "cell_type": "code",
   "execution_count": 4,
   "metadata": {
    "colab": {
     "base_uri": "https://localhost:8080/"
    },
    "id": "2KbIiNxG7Mo9",
    "outputId": "a794af7d-509f-4b13-a447-35fc652d9505"
   },
   "outputs": [
    {
     "ename": "NameError",
     "evalue": "name 'GaussianNB' is not defined",
     "output_type": "error",
     "traceback": [
      "\u001b[1;31m---------------------------------------------------------------------------\u001b[0m",
      "\u001b[1;31mNameError\u001b[0m                                 Traceback (most recent call last)",
      "\u001b[1;32m<ipython-input-4-adff958d6178>\u001b[0m in \u001b[0;36m<module>\u001b[1;34m\u001b[0m\n\u001b[0;32m      4\u001b[0m \u001b[0mmodels\u001b[0m\u001b[1;33m.\u001b[0m\u001b[0mappend\u001b[0m\u001b[1;33m(\u001b[0m\u001b[1;33m(\u001b[0m\u001b[1;34m'KNN'\u001b[0m\u001b[1;33m,\u001b[0m \u001b[0mKNeighborsClassifier\u001b[0m\u001b[1;33m(\u001b[0m\u001b[1;33m)\u001b[0m\u001b[1;33m)\u001b[0m\u001b[1;33m)\u001b[0m\u001b[1;33m\u001b[0m\u001b[1;33m\u001b[0m\u001b[0m\n\u001b[0;32m      5\u001b[0m \u001b[0mmodels\u001b[0m\u001b[1;33m.\u001b[0m\u001b[0mappend\u001b[0m\u001b[1;33m(\u001b[0m\u001b[1;33m(\u001b[0m\u001b[1;34m'DT'\u001b[0m\u001b[1;33m,\u001b[0m \u001b[0mDecisionTreeClassifier\u001b[0m\u001b[1;33m(\u001b[0m\u001b[1;33m)\u001b[0m\u001b[1;33m)\u001b[0m\u001b[1;33m)\u001b[0m\u001b[1;33m\u001b[0m\u001b[1;33m\u001b[0m\u001b[0m\n\u001b[1;32m----> 6\u001b[1;33m \u001b[0mmodels\u001b[0m\u001b[1;33m.\u001b[0m\u001b[0mappend\u001b[0m\u001b[1;33m(\u001b[0m\u001b[1;33m(\u001b[0m\u001b[1;34m'NB'\u001b[0m\u001b[1;33m,\u001b[0m \u001b[0mGaussianNB\u001b[0m\u001b[1;33m(\u001b[0m\u001b[1;33m)\u001b[0m\u001b[1;33m)\u001b[0m\u001b[1;33m)\u001b[0m\u001b[1;33m\u001b[0m\u001b[1;33m\u001b[0m\u001b[0m\n\u001b[0m\u001b[0;32m      7\u001b[0m \u001b[0mmodels\u001b[0m\u001b[1;33m.\u001b[0m\u001b[0mappend\u001b[0m\u001b[1;33m(\u001b[0m\u001b[1;33m(\u001b[0m\u001b[1;34m'SVM'\u001b[0m\u001b[1;33m,\u001b[0m \u001b[0mSVC\u001b[0m\u001b[1;33m(\u001b[0m\u001b[0mgamma\u001b[0m\u001b[1;33m=\u001b[0m\u001b[1;34m'auto'\u001b[0m\u001b[1;33m)\u001b[0m\u001b[1;33m)\u001b[0m\u001b[1;33m)\u001b[0m\u001b[1;33m\u001b[0m\u001b[1;33m\u001b[0m\u001b[0m\n\u001b[0;32m      8\u001b[0m \u001b[1;31m# evaluate each model in turn\u001b[0m\u001b[1;33m\u001b[0m\u001b[1;33m\u001b[0m\u001b[1;33m\u001b[0m\u001b[0m\n",
      "\u001b[1;31mNameError\u001b[0m: name 'GaussianNB' is not defined"
     ]
    }
   ],
   "source": [
    "\n",
    "\n",
    "# Spot Check Algorithms\n",
    "models = []\n",
    "models.append(('LR', LogisticRegression(solver='liblinear', multi_class='ovr')))\n",
    "models.append(('KNN', KNeighborsClassifier()))\n",
    "models.append(('DT', DecisionTreeClassifier()))\n",
    "models.append(('NB', GaussianNB()))\n",
    "models.append(('SVM', SVC(gamma='auto')))\n",
    "# evaluate each model in turn\n",
    "results = []\n",
    "names = []\n",
    "for name, model in models:\n",
    "\tkfold = StratifiedKFold(n_splits=4, random_state=1, shuffle=True)\n",
    "\tcv_results = cross_val_score(model, X_train, y_train, cv=kfold, scoring='accuracy')\n",
    "\tresults.append(cv_results)\n",
    "\tnames.append(name)\n",
    "\tprint('%s: %f (%f)' % (name, cv_results.mean(), cv_results.std()))"
   ]
  },
  {
   "cell_type": "code",
   "execution_count": null,
   "metadata": {
    "colab": {
     "base_uri": "https://localhost:8080/"
    },
    "id": "mUPrO_pn202d",
    "outputId": "b88fd4ab-93a5-4dc0-8a02-452996e25987"
   },
   "outputs": [
    {
     "name": "stdout",
     "output_type": "stream",
     "text": [
      "Prediction: LR 23.000000 \n",
      "Score:  76.03999999999999\n",
      "0.7604166666666666\n",
      "[[12 23]\n",
      " [ 0 61]]\n",
      "              precision    recall  f1-score   support\n",
      "\n",
      "           N       1.00      0.34      0.51        35\n",
      "           Y       0.73      1.00      0.84        61\n",
      "\n",
      "    accuracy                           0.76        96\n",
      "   macro avg       0.86      0.67      0.68        96\n",
      "weighted avg       0.83      0.76      0.72        96\n",
      "\n",
      "\n",
      "\n",
      "Prediction: KNN 22.000000 \n",
      "Score:  77.08\n",
      "0.7708333333333334\n",
      "[[13 22]\n",
      " [ 0 61]]\n",
      "              precision    recall  f1-score   support\n",
      "\n",
      "           N       1.00      0.37      0.54        35\n",
      "           Y       0.73      1.00      0.85        61\n",
      "\n",
      "    accuracy                           0.77        96\n",
      "   macro avg       0.87      0.69      0.69        96\n",
      "weighted avg       0.83      0.77      0.74        96\n",
      "\n",
      "\n",
      "\n",
      "Prediction: DT 31.000000 \n",
      "Score:  67.71000000000001\n",
      "0.6770833333333334\n",
      "[[19 16]\n",
      " [15 46]]\n",
      "              precision    recall  f1-score   support\n",
      "\n",
      "           N       0.56      0.54      0.55        35\n",
      "           Y       0.74      0.75      0.75        61\n",
      "\n",
      "    accuracy                           0.68        96\n",
      "   macro avg       0.65      0.65      0.65        96\n",
      "weighted avg       0.68      0.68      0.68        96\n",
      "\n",
      "\n",
      "\n",
      "Prediction: NB 22.000000 \n",
      "Score:  77.08\n",
      "0.7708333333333334\n",
      "[[15 20]\n",
      " [ 2 59]]\n",
      "              precision    recall  f1-score   support\n",
      "\n",
      "           N       0.88      0.43      0.58        35\n",
      "           Y       0.75      0.97      0.84        61\n",
      "\n",
      "    accuracy                           0.77        96\n",
      "   macro avg       0.81      0.70      0.71        96\n",
      "weighted avg       0.80      0.77      0.75        96\n",
      "\n",
      "\n",
      "\n",
      "Prediction: SVM 22.000000 \n",
      "Score:  77.08\n",
      "0.7708333333333334\n",
      "[[13 22]\n",
      " [ 0 61]]\n",
      "              precision    recall  f1-score   support\n",
      "\n",
      "           N       1.00      0.37      0.54        35\n",
      "           Y       0.73      1.00      0.85        61\n",
      "\n",
      "    accuracy                           0.77        96\n",
      "   macro avg       0.87      0.69      0.69        96\n",
      "weighted avg       0.83      0.77      0.74        96\n",
      "\n",
      "\n",
      "\n"
     ]
    }
   ],
   "source": [
    "from sklearn.metrics import confusion_matrix\n",
    "from sklearn.metrics import accuracy_score\n",
    "from sklearn.metrics import classification_report\n",
    "\n",
    "for name, model in models:\n",
    "  y_pred = model.fit(X_train, y_train).predict(X_test)\n",
    "  print('Prediction: %s %f ' % (name, (y_test != y_pred).sum()))\n",
    "  rs = model.score(X_test, y_test)\n",
    "  score = round(rs, 4) * 100\n",
    "  print(\"Score: \", score)\n",
    "\n",
    "  # Evaluate predictions\n",
    "  print(accuracy_score(y_test, y_pred))\n",
    "  print(confusion_matrix(y_test, y_pred))\n",
    "  print(classification_report(y_test, y_pred))\n",
    "\n",
    "  print()\n",
    "  print()\n"
   ]
  },
  {
   "cell_type": "code",
   "execution_count": null,
   "metadata": {
    "colab": {
     "base_uri": "https://localhost:8080/",
     "height": 281
    },
    "id": "6vsvKm4XKCBC",
    "outputId": "44ca497a-a918-49f1-b1cf-1c4c6eefb62c"
   },
   "outputs": [
    {
     "data": {
      "image/png": "[encoded data removed]",
      "text/plain": [
       "<Figure size 432x288 with 1 Axes>"
      ]
     },
     "metadata": {
      "needs_background": "light",
      "tags": []
     },
     "output_type": "display_data"
    }
   ],
   "source": [
    "# Compare Algorithms\n",
    "plt.boxplot(results, labels=names)\n",
    "plt.title('Algorithm Comparison')\n",
    "plt.show()"
   ]
  },
  {
   "cell_type": "code",
   "execution_count": null,
   "metadata": {
    "id": "DqT76MEuKPUp"
   },
   "outputs": [],
   "source": []
  }
 ],
 "metadata": {
  "colab": {
   "collapsed_sections": [],
   "name": "Copy of TestAssignment.ipynb",
   "provenance": []
  },
  "kernelspec": {
   "display_name": "Python 3",
   "language": "python",
   "name": "python3"
  },
  "language_info": {
   "codemirror_mode": {
    "name": "ipython",
    "version": 3
   },
   "file_extension": ".py",
   "mimetype": "text/x-python",
   "name": "python",
   "nbconvert_exporter": "python",
   "pygments_lexer": "ipython3",
   "version": "3.8.3"
  }
 },
 "nbformat": 4,
 "nbformat_minor": 1
}
